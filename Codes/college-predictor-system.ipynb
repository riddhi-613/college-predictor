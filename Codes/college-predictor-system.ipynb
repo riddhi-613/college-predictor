{
 "cells": [
  {
   "cell_type": "markdown",
   "id": "a374da2f",
   "metadata": {
    "papermill": {
     "duration": 0.02075,
     "end_time": "2023-02-13T13:12:56.246389",
     "exception": false,
     "start_time": "2023-02-13T13:12:56.225639",
     "status": "completed"
    },
    "tags": []
   },
   "source": [
    "***"
   ]
  },
  {
   "cell_type": "code",
   "execution_count": null,
   "id": "fb4b66a5",
   "metadata": {
    "execution": {
     "iopub.execute_input": "2023-02-13T13:12:56.368688Z",
     "iopub.status.busy": "2023-02-13T13:12:56.368066Z",
     "iopub.status.idle": "2023-02-13T13:12:57.505342Z",
     "shell.execute_reply": "2023-02-13T13:12:57.504156Z"
    },
    "papermill": {
     "duration": 1.162295,
     "end_time": "2023-02-13T13:12:57.508622",
     "exception": false,
     "start_time": "2023-02-13T13:12:56.346327",
     "status": "completed"
    },
    "tags": []
   },
   "outputs": [],
   "source": [
    "#imports\n",
    "import pandas as pd\n",
    "import numpy as np\n",
    "import matplotlib.pyplot as plt\n",
    "import seaborn as sns"
   ]
  },
  {
   "cell_type": "code",
   "execution_count": 2,
   "id": "12477427",
   "metadata": {
    "execution": {
     "iopub.execute_input": "2023-02-13T13:12:57.552380Z",
     "iopub.status.busy": "2023-02-13T13:12:57.551760Z",
     "iopub.status.idle": "2023-02-13T13:12:57.556665Z",
     "shell.execute_reply": "2023-02-13T13:12:57.555765Z"
    },
    "papermill": {
     "duration": 0.028881,
     "end_time": "2023-02-13T13:12:57.558757",
     "exception": false,
     "start_time": "2023-02-13T13:12:57.529876",
     "status": "completed"
    },
    "tags": []
   },
   "outputs": [],
   "source": [
    "import warnings\n",
    "warnings.filterwarnings('ignore')"
   ]
  },
  {
   "cell_type": "code",
   "execution_count": null,
   "id": "15d2b049",
   "metadata": {
    "execution": {
     "iopub.execute_input": "2023-02-13T13:12:57.703137Z",
     "iopub.status.busy": "2023-02-13T13:12:57.701967Z",
     "iopub.status.idle": "2023-02-13T13:12:58.005183Z",
     "shell.execute_reply": "2023-02-13T13:12:58.003962Z"
    },
    "papermill": {
     "duration": 0.327905,
     "end_time": "2023-02-13T13:12:58.007815",
     "exception": false,
     "start_time": "2023-02-13T13:12:57.679910",
     "status": "completed"
    },
    "tags": []
   },
   "outputs": [
    {
     "data": {
      "text/html": [
       "<div>\n",
       "<style scoped>\n",
       "    .dataframe tbody tr th:only-of-type {\n",
       "        vertical-align: middle;\n",
       "    }\n",
       "\n",
       "    .dataframe tbody tr th {\n",
       "        vertical-align: top;\n",
       "    }\n",
       "\n",
       "    .dataframe thead th {\n",
       "        text-align: right;\n",
       "    }\n",
       "</style>\n",
       "<table border=\"1\" class=\"dataframe\">\n",
       "  <thead>\n",
       "    <tr style=\"text-align: right;\">\n",
       "      <th></th>\n",
       "      <th>year</th>\n",
       "      <th>institute_type</th>\n",
       "      <th>round_no</th>\n",
       "      <th>quota</th>\n",
       "      <th>pool</th>\n",
       "      <th>institute_short</th>\n",
       "      <th>program_name</th>\n",
       "      <th>program_duration</th>\n",
       "      <th>degree_short</th>\n",
       "      <th>category</th>\n",
       "      <th>opening_rank</th>\n",
       "      <th>closing_rank</th>\n",
       "      <th>is_preparatory</th>\n",
       "      <th>Unnamed: 13</th>\n",
       "    </tr>\n",
       "  </thead>\n",
       "  <tbody>\n",
       "    <tr>\n",
       "      <th>0</th>\n",
       "      <td>2016</td>\n",
       "      <td>IIT</td>\n",
       "      <td>6</td>\n",
       "      <td>AI</td>\n",
       "      <td>Gender-Neutral</td>\n",
       "      <td>IIT-Bombay</td>\n",
       "      <td>Aerospace Engineering</td>\n",
       "      <td>4 Years</td>\n",
       "      <td>B.Tech</td>\n",
       "      <td>GEN</td>\n",
       "      <td>838</td>\n",
       "      <td>1841</td>\n",
       "      <td>0</td>\n",
       "      <td>NaN</td>\n",
       "    </tr>\n",
       "    <tr>\n",
       "      <th>1</th>\n",
       "      <td>2016</td>\n",
       "      <td>IIT</td>\n",
       "      <td>6</td>\n",
       "      <td>AI</td>\n",
       "      <td>Gender-Neutral</td>\n",
       "      <td>IIT-Bombay</td>\n",
       "      <td>Aerospace Engineering</td>\n",
       "      <td>4 Years</td>\n",
       "      <td>B.Tech</td>\n",
       "      <td>OBC-NCL</td>\n",
       "      <td>408</td>\n",
       "      <td>1098</td>\n",
       "      <td>0</td>\n",
       "      <td>NaN</td>\n",
       "    </tr>\n",
       "    <tr>\n",
       "      <th>2</th>\n",
       "      <td>2016</td>\n",
       "      <td>IIT</td>\n",
       "      <td>6</td>\n",
       "      <td>AI</td>\n",
       "      <td>Gender-Neutral</td>\n",
       "      <td>IIT-Bombay</td>\n",
       "      <td>Aerospace Engineering</td>\n",
       "      <td>4 Years</td>\n",
       "      <td>B.Tech</td>\n",
       "      <td>SC</td>\n",
       "      <td>297</td>\n",
       "      <td>468</td>\n",
       "      <td>0</td>\n",
       "      <td>NaN</td>\n",
       "    </tr>\n",
       "    <tr>\n",
       "      <th>3</th>\n",
       "      <td>2016</td>\n",
       "      <td>IIT</td>\n",
       "      <td>6</td>\n",
       "      <td>AI</td>\n",
       "      <td>Gender-Neutral</td>\n",
       "      <td>IIT-Bombay</td>\n",
       "      <td>Aerospace Engineering</td>\n",
       "      <td>4 Years</td>\n",
       "      <td>B.Tech</td>\n",
       "      <td>ST</td>\n",
       "      <td>79</td>\n",
       "      <td>145</td>\n",
       "      <td>0</td>\n",
       "      <td>NaN</td>\n",
       "    </tr>\n",
       "    <tr>\n",
       "      <th>4</th>\n",
       "      <td>2016</td>\n",
       "      <td>IIT</td>\n",
       "      <td>6</td>\n",
       "      <td>AI</td>\n",
       "      <td>Gender-Neutral</td>\n",
       "      <td>IIT-Bombay</td>\n",
       "      <td>Aerospace Engineering</td>\n",
       "      <td>4 Years</td>\n",
       "      <td>B.Tech</td>\n",
       "      <td>GEN-PWD</td>\n",
       "      <td>94</td>\n",
       "      <td>94</td>\n",
       "      <td>0</td>\n",
       "      <td>NaN</td>\n",
       "    </tr>\n",
       "  </tbody>\n",
       "</table>\n",
       "</div>"
      ],
      "text/plain": [
       "   year institute_type  round_no quota            pool institute_short  \\\n",
       "0  2016            IIT         6    AI  Gender-Neutral      IIT-Bombay   \n",
       "1  2016            IIT         6    AI  Gender-Neutral      IIT-Bombay   \n",
       "2  2016            IIT         6    AI  Gender-Neutral      IIT-Bombay   \n",
       "3  2016            IIT         6    AI  Gender-Neutral      IIT-Bombay   \n",
       "4  2016            IIT         6    AI  Gender-Neutral      IIT-Bombay   \n",
       "\n",
       "            program_name program_duration degree_short category  opening_rank  \\\n",
       "0  Aerospace Engineering          4 Years       B.Tech      GEN           838   \n",
       "1  Aerospace Engineering          4 Years       B.Tech  OBC-NCL           408   \n",
       "2  Aerospace Engineering          4 Years       B.Tech       SC           297   \n",
       "3  Aerospace Engineering          4 Years       B.Tech       ST            79   \n",
       "4  Aerospace Engineering          4 Years       B.Tech  GEN-PWD            94   \n",
       "\n",
       "   closing_rank  is_preparatory  Unnamed: 13  \n",
       "0          1841               0          NaN  \n",
       "1          1098               0          NaN  \n",
       "2           468               0          NaN  \n",
       "3           145               0          NaN  \n",
       "4            94               0          NaN  "
      ]
     },
     "execution_count": 4,
     "metadata": {},
     "output_type": "execute_result"
    }
   ],
   "source": [
    "df = pd.read_csv(\"D:\\projects_ml\\eval\\data.csv\")\n",
    "df.head()"
   ]
  },
  {
   "cell_type": "code",
   "execution_count": 5,
   "id": "09a40f3a",
   "metadata": {
    "execution": {
     "iopub.execute_input": "2023-02-13T13:12:58.051744Z",
     "iopub.status.busy": "2023-02-13T13:12:58.051346Z",
     "iopub.status.idle": "2023-02-13T13:12:58.061771Z",
     "shell.execute_reply": "2023-02-13T13:12:58.060643Z"
    },
    "papermill": {
     "duration": 0.035474,
     "end_time": "2023-02-13T13:12:58.064227",
     "exception": false,
     "start_time": "2023-02-13T13:12:58.028753",
     "status": "completed"
    },
    "tags": []
   },
   "outputs": [],
   "source": [
    "del df[\"Unnamed: 13\"]"
   ]
  },
  {
   "cell_type": "code",
   "execution_count": 6,
   "id": "de8d9fa7",
   "metadata": {
    "execution": {
     "iopub.execute_input": "2023-02-13T13:12:58.107707Z",
     "iopub.status.busy": "2023-02-13T13:12:58.106908Z",
     "iopub.status.idle": "2023-02-13T13:12:58.124172Z",
     "shell.execute_reply": "2023-02-13T13:12:58.122979Z"
    },
    "papermill": {
     "duration": 0.041774,
     "end_time": "2023-02-13T13:12:58.126617",
     "exception": false,
     "start_time": "2023-02-13T13:12:58.084843",
     "status": "completed"
    },
    "tags": []
   },
   "outputs": [
    {
     "data": {
      "text/html": [
       "<div>\n",
       "<style scoped>\n",
       "    .dataframe tbody tr th:only-of-type {\n",
       "        vertical-align: middle;\n",
       "    }\n",
       "\n",
       "    .dataframe tbody tr th {\n",
       "        vertical-align: top;\n",
       "    }\n",
       "\n",
       "    .dataframe thead th {\n",
       "        text-align: right;\n",
       "    }\n",
       "</style>\n",
       "<table border=\"1\" class=\"dataframe\">\n",
       "  <thead>\n",
       "    <tr style=\"text-align: right;\">\n",
       "      <th></th>\n",
       "      <th>year</th>\n",
       "      <th>institute_type</th>\n",
       "      <th>round_no</th>\n",
       "      <th>quota</th>\n",
       "      <th>pool</th>\n",
       "      <th>institute_short</th>\n",
       "      <th>program_name</th>\n",
       "      <th>program_duration</th>\n",
       "      <th>degree_short</th>\n",
       "      <th>category</th>\n",
       "      <th>opening_rank</th>\n",
       "      <th>closing_rank</th>\n",
       "      <th>is_preparatory</th>\n",
       "    </tr>\n",
       "  </thead>\n",
       "  <tbody>\n",
       "    <tr>\n",
       "      <th>0</th>\n",
       "      <td>2016</td>\n",
       "      <td>IIT</td>\n",
       "      <td>6</td>\n",
       "      <td>AI</td>\n",
       "      <td>Gender-Neutral</td>\n",
       "      <td>IIT-Bombay</td>\n",
       "      <td>Aerospace Engineering</td>\n",
       "      <td>4 Years</td>\n",
       "      <td>B.Tech</td>\n",
       "      <td>GEN</td>\n",
       "      <td>838</td>\n",
       "      <td>1841</td>\n",
       "      <td>0</td>\n",
       "    </tr>\n",
       "    <tr>\n",
       "      <th>1</th>\n",
       "      <td>2016</td>\n",
       "      <td>IIT</td>\n",
       "      <td>6</td>\n",
       "      <td>AI</td>\n",
       "      <td>Gender-Neutral</td>\n",
       "      <td>IIT-Bombay</td>\n",
       "      <td>Aerospace Engineering</td>\n",
       "      <td>4 Years</td>\n",
       "      <td>B.Tech</td>\n",
       "      <td>OBC-NCL</td>\n",
       "      <td>408</td>\n",
       "      <td>1098</td>\n",
       "      <td>0</td>\n",
       "    </tr>\n",
       "    <tr>\n",
       "      <th>2</th>\n",
       "      <td>2016</td>\n",
       "      <td>IIT</td>\n",
       "      <td>6</td>\n",
       "      <td>AI</td>\n",
       "      <td>Gender-Neutral</td>\n",
       "      <td>IIT-Bombay</td>\n",
       "      <td>Aerospace Engineering</td>\n",
       "      <td>4 Years</td>\n",
       "      <td>B.Tech</td>\n",
       "      <td>SC</td>\n",
       "      <td>297</td>\n",
       "      <td>468</td>\n",
       "      <td>0</td>\n",
       "    </tr>\n",
       "    <tr>\n",
       "      <th>3</th>\n",
       "      <td>2016</td>\n",
       "      <td>IIT</td>\n",
       "      <td>6</td>\n",
       "      <td>AI</td>\n",
       "      <td>Gender-Neutral</td>\n",
       "      <td>IIT-Bombay</td>\n",
       "      <td>Aerospace Engineering</td>\n",
       "      <td>4 Years</td>\n",
       "      <td>B.Tech</td>\n",
       "      <td>ST</td>\n",
       "      <td>79</td>\n",
       "      <td>145</td>\n",
       "      <td>0</td>\n",
       "    </tr>\n",
       "    <tr>\n",
       "      <th>4</th>\n",
       "      <td>2016</td>\n",
       "      <td>IIT</td>\n",
       "      <td>6</td>\n",
       "      <td>AI</td>\n",
       "      <td>Gender-Neutral</td>\n",
       "      <td>IIT-Bombay</td>\n",
       "      <td>Aerospace Engineering</td>\n",
       "      <td>4 Years</td>\n",
       "      <td>B.Tech</td>\n",
       "      <td>GEN-PWD</td>\n",
       "      <td>94</td>\n",
       "      <td>94</td>\n",
       "      <td>0</td>\n",
       "    </tr>\n",
       "  </tbody>\n",
       "</table>\n",
       "</div>"
      ],
      "text/plain": [
       "   year institute_type  round_no quota            pool institute_short  \\\n",
       "0  2016            IIT         6    AI  Gender-Neutral      IIT-Bombay   \n",
       "1  2016            IIT         6    AI  Gender-Neutral      IIT-Bombay   \n",
       "2  2016            IIT         6    AI  Gender-Neutral      IIT-Bombay   \n",
       "3  2016            IIT         6    AI  Gender-Neutral      IIT-Bombay   \n",
       "4  2016            IIT         6    AI  Gender-Neutral      IIT-Bombay   \n",
       "\n",
       "            program_name program_duration degree_short category  opening_rank  \\\n",
       "0  Aerospace Engineering          4 Years       B.Tech      GEN           838   \n",
       "1  Aerospace Engineering          4 Years       B.Tech  OBC-NCL           408   \n",
       "2  Aerospace Engineering          4 Years       B.Tech       SC           297   \n",
       "3  Aerospace Engineering          4 Years       B.Tech       ST            79   \n",
       "4  Aerospace Engineering          4 Years       B.Tech  GEN-PWD            94   \n",
       "\n",
       "   closing_rank  is_preparatory  \n",
       "0          1841               0  \n",
       "1          1098               0  \n",
       "2           468               0  \n",
       "3           145               0  \n",
       "4            94               0  "
      ]
     },
     "execution_count": 6,
     "metadata": {},
     "output_type": "execute_result"
    }
   ],
   "source": [
    "df.head()"
   ]
  },
  {
   "cell_type": "code",
   "execution_count": 7,
   "id": "cb97004d",
   "metadata": {
    "execution": {
     "iopub.execute_input": "2023-02-13T13:12:58.212228Z",
     "iopub.status.busy": "2023-02-13T13:12:58.211847Z",
     "iopub.status.idle": "2023-02-13T13:12:58.258451Z",
     "shell.execute_reply": "2023-02-13T13:12:58.256942Z"
    },
    "papermill": {
     "duration": 0.071878,
     "end_time": "2023-02-13T13:12:58.261742",
     "exception": false,
     "start_time": "2023-02-13T13:12:58.189864",
     "status": "completed"
    },
    "tags": []
   },
   "outputs": [
    {
     "name": "stdout",
     "output_type": "stream",
     "text": [
      "<class 'pandas.core.frame.DataFrame'>\n",
      "RangeIndex: 64958 entries, 0 to 64957\n",
      "Data columns (total 13 columns):\n",
      " #   Column            Non-Null Count  Dtype \n",
      "---  ------            --------------  ----- \n",
      " 0   year              64958 non-null  int64 \n",
      " 1   institute_type    64958 non-null  object\n",
      " 2   round_no          64958 non-null  int64 \n",
      " 3   quota             64958 non-null  object\n",
      " 4   pool              64958 non-null  object\n",
      " 5   institute_short   64958 non-null  object\n",
      " 6   program_name      64958 non-null  object\n",
      " 7   program_duration  64958 non-null  object\n",
      " 8   degree_short      64958 non-null  object\n",
      " 9   category          64958 non-null  object\n",
      " 10  opening_rank      64958 non-null  int64 \n",
      " 11  closing_rank      64958 non-null  int64 \n",
      " 12  is_preparatory    64958 non-null  int64 \n",
      "dtypes: int64(5), object(8)\n",
      "memory usage: 6.4+ MB\n"
     ]
    }
   ],
   "source": [
    "df.info()"
   ]
  },
  {
   "cell_type": "code",
   "execution_count": 8,
   "id": "d78ece31",
   "metadata": {
    "execution": {
     "iopub.execute_input": "2023-02-13T13:12:58.306218Z",
     "iopub.status.busy": "2023-02-13T13:12:58.305628Z",
     "iopub.status.idle": "2023-02-13T13:12:58.361400Z",
     "shell.execute_reply": "2023-02-13T13:12:58.360273Z"
    },
    "papermill": {
     "duration": 0.08046,
     "end_time": "2023-02-13T13:12:58.363699",
     "exception": false,
     "start_time": "2023-02-13T13:12:58.283239",
     "status": "completed"
    },
    "tags": []
   },
   "outputs": [
    {
     "data": {
      "text/html": [
       "<div>\n",
       "<style scoped>\n",
       "    .dataframe tbody tr th:only-of-type {\n",
       "        vertical-align: middle;\n",
       "    }\n",
       "\n",
       "    .dataframe tbody tr th {\n",
       "        vertical-align: top;\n",
       "    }\n",
       "\n",
       "    .dataframe thead th {\n",
       "        text-align: right;\n",
       "    }\n",
       "</style>\n",
       "<table border=\"1\" class=\"dataframe\">\n",
       "  <thead>\n",
       "    <tr style=\"text-align: right;\">\n",
       "      <th></th>\n",
       "      <th>year</th>\n",
       "      <th>round_no</th>\n",
       "      <th>opening_rank</th>\n",
       "      <th>closing_rank</th>\n",
       "      <th>is_preparatory</th>\n",
       "    </tr>\n",
       "  </thead>\n",
       "  <tbody>\n",
       "    <tr>\n",
       "      <th>count</th>\n",
       "      <td>64958.000000</td>\n",
       "      <td>64958.000000</td>\n",
       "      <td>6.495800e+04</td>\n",
       "      <td>6.495800e+04</td>\n",
       "      <td>64958.000000</td>\n",
       "    </tr>\n",
       "    <tr>\n",
       "      <th>mean</th>\n",
       "      <td>2020.421580</td>\n",
       "      <td>2.609348</td>\n",
       "      <td>8.259642e+03</td>\n",
       "      <td>1.070497e+04</td>\n",
       "      <td>0.047631</td>\n",
       "    </tr>\n",
       "    <tr>\n",
       "      <th>std</th>\n",
       "      <td>1.149762</td>\n",
       "      <td>2.422558</td>\n",
       "      <td>2.679448e+04</td>\n",
       "      <td>3.788101e+04</td>\n",
       "      <td>0.212985</td>\n",
       "    </tr>\n",
       "    <tr>\n",
       "      <th>min</th>\n",
       "      <td>2016.000000</td>\n",
       "      <td>1.000000</td>\n",
       "      <td>0.000000e+00</td>\n",
       "      <td>0.000000e+00</td>\n",
       "      <td>0.000000</td>\n",
       "    </tr>\n",
       "    <tr>\n",
       "      <th>25%</th>\n",
       "      <td>2020.000000</td>\n",
       "      <td>1.000000</td>\n",
       "      <td>6.710000e+02</td>\n",
       "      <td>8.320000e+02</td>\n",
       "      <td>0.000000</td>\n",
       "    </tr>\n",
       "    <tr>\n",
       "      <th>50%</th>\n",
       "      <td>2021.000000</td>\n",
       "      <td>1.000000</td>\n",
       "      <td>2.309000e+03</td>\n",
       "      <td>2.764500e+03</td>\n",
       "      <td>0.000000</td>\n",
       "    </tr>\n",
       "    <tr>\n",
       "      <th>75%</th>\n",
       "      <td>2021.000000</td>\n",
       "      <td>6.000000</td>\n",
       "      <td>6.932000e+03</td>\n",
       "      <td>8.190000e+03</td>\n",
       "      <td>0.000000</td>\n",
       "    </tr>\n",
       "    <tr>\n",
       "      <th>max</th>\n",
       "      <td>2021.000000</td>\n",
       "      <td>7.000000</td>\n",
       "      <td>1.082601e+06</td>\n",
       "      <td>1.144790e+06</td>\n",
       "      <td>1.000000</td>\n",
       "    </tr>\n",
       "  </tbody>\n",
       "</table>\n",
       "</div>"
      ],
      "text/plain": [
       "               year      round_no  opening_rank  closing_rank  is_preparatory\n",
       "count  64958.000000  64958.000000  6.495800e+04  6.495800e+04    64958.000000\n",
       "mean    2020.421580      2.609348  8.259642e+03  1.070497e+04        0.047631\n",
       "std        1.149762      2.422558  2.679448e+04  3.788101e+04        0.212985\n",
       "min     2016.000000      1.000000  0.000000e+00  0.000000e+00        0.000000\n",
       "25%     2020.000000      1.000000  6.710000e+02  8.320000e+02        0.000000\n",
       "50%     2021.000000      1.000000  2.309000e+03  2.764500e+03        0.000000\n",
       "75%     2021.000000      6.000000  6.932000e+03  8.190000e+03        0.000000\n",
       "max     2021.000000      7.000000  1.082601e+06  1.144790e+06        1.000000"
      ]
     },
     "execution_count": 8,
     "metadata": {},
     "output_type": "execute_result"
    }
   ],
   "source": [
    "df.describe()"
   ]
  },
  {
   "cell_type": "code",
   "execution_count": 9,
   "id": "d3124be1",
   "metadata": {
    "execution": {
     "iopub.execute_input": "2023-02-13T13:12:58.407529Z",
     "iopub.status.busy": "2023-02-13T13:12:58.407100Z",
     "iopub.status.idle": "2023-02-13T13:12:58.413747Z",
     "shell.execute_reply": "2023-02-13T13:12:58.412697Z"
    },
    "papermill": {
     "duration": 0.030907,
     "end_time": "2023-02-13T13:12:58.415990",
     "exception": false,
     "start_time": "2023-02-13T13:12:58.385083",
     "status": "completed"
    },
    "tags": []
   },
   "outputs": [
    {
     "data": {
      "text/plain": [
       "(64958, 13)"
      ]
     },
     "execution_count": 9,
     "metadata": {},
     "output_type": "execute_result"
    }
   ],
   "source": [
    "# Shape of the Dataset\n",
    "\n",
    "df.shape"
   ]
  },
  {
   "cell_type": "code",
   "execution_count": 10,
   "id": "ffb69fe9",
   "metadata": {
    "execution": {
     "iopub.execute_input": "2023-02-13T13:12:58.465768Z",
     "iopub.status.busy": "2023-02-13T13:12:58.464951Z",
     "iopub.status.idle": "2023-02-13T13:12:58.480273Z",
     "shell.execute_reply": "2023-02-13T13:12:58.479045Z"
    },
    "papermill": {
     "duration": 0.045964,
     "end_time": "2023-02-13T13:12:58.482859",
     "exception": false,
     "start_time": "2023-02-13T13:12:58.436895",
     "status": "completed"
    },
    "tags": []
   },
   "outputs": [
    {
     "data": {
      "text/html": [
       "<div>\n",
       "<style scoped>\n",
       "    .dataframe tbody tr th:only-of-type {\n",
       "        vertical-align: middle;\n",
       "    }\n",
       "\n",
       "    .dataframe tbody tr th {\n",
       "        vertical-align: top;\n",
       "    }\n",
       "\n",
       "    .dataframe thead th {\n",
       "        text-align: right;\n",
       "    }\n",
       "</style>\n",
       "<table border=\"1\" class=\"dataframe\">\n",
       "  <thead>\n",
       "    <tr style=\"text-align: right;\">\n",
       "      <th></th>\n",
       "      <th>0</th>\n",
       "    </tr>\n",
       "  </thead>\n",
       "  <tbody>\n",
       "    <tr>\n",
       "      <th>0</th>\n",
       "      <td>year</td>\n",
       "    </tr>\n",
       "    <tr>\n",
       "      <th>1</th>\n",
       "      <td>institute_type</td>\n",
       "    </tr>\n",
       "    <tr>\n",
       "      <th>2</th>\n",
       "      <td>round_no</td>\n",
       "    </tr>\n",
       "    <tr>\n",
       "      <th>3</th>\n",
       "      <td>quota</td>\n",
       "    </tr>\n",
       "    <tr>\n",
       "      <th>4</th>\n",
       "      <td>pool</td>\n",
       "    </tr>\n",
       "    <tr>\n",
       "      <th>5</th>\n",
       "      <td>institute_short</td>\n",
       "    </tr>\n",
       "    <tr>\n",
       "      <th>6</th>\n",
       "      <td>program_name</td>\n",
       "    </tr>\n",
       "    <tr>\n",
       "      <th>7</th>\n",
       "      <td>program_duration</td>\n",
       "    </tr>\n",
       "    <tr>\n",
       "      <th>8</th>\n",
       "      <td>degree_short</td>\n",
       "    </tr>\n",
       "    <tr>\n",
       "      <th>9</th>\n",
       "      <td>category</td>\n",
       "    </tr>\n",
       "    <tr>\n",
       "      <th>10</th>\n",
       "      <td>opening_rank</td>\n",
       "    </tr>\n",
       "    <tr>\n",
       "      <th>11</th>\n",
       "      <td>closing_rank</td>\n",
       "    </tr>\n",
       "    <tr>\n",
       "      <th>12</th>\n",
       "      <td>is_preparatory</td>\n",
       "    </tr>\n",
       "  </tbody>\n",
       "</table>\n",
       "</div>"
      ],
      "text/plain": [
       "                   0\n",
       "0               year\n",
       "1     institute_type\n",
       "2           round_no\n",
       "3              quota\n",
       "4               pool\n",
       "5    institute_short\n",
       "6       program_name\n",
       "7   program_duration\n",
       "8       degree_short\n",
       "9           category\n",
       "10      opening_rank\n",
       "11      closing_rank\n",
       "12    is_preparatory"
      ]
     },
     "execution_count": 10,
     "metadata": {},
     "output_type": "execute_result"
    }
   ],
   "source": [
    "# Columns of the Dataset\n",
    "\n",
    "Columns = pd.DataFrame(df.columns)\n",
    "Columns"
   ]
  },
  {
   "cell_type": "code",
   "execution_count": 11,
   "id": "9ec463f8",
   "metadata": {
    "execution": {
     "iopub.execute_input": "2023-02-13T13:12:58.538511Z",
     "iopub.status.busy": "2023-02-13T13:12:58.538077Z",
     "iopub.status.idle": "2023-02-13T13:12:58.552411Z",
     "shell.execute_reply": "2023-02-13T13:12:58.551421Z"
    },
    "papermill": {
     "duration": 0.042774,
     "end_time": "2023-02-13T13:12:58.554695",
     "exception": false,
     "start_time": "2023-02-13T13:12:58.511921",
     "status": "completed"
    },
    "tags": []
   },
   "outputs": [
    {
     "data": {
      "text/html": [
       "<div>\n",
       "<style scoped>\n",
       "    .dataframe tbody tr th:only-of-type {\n",
       "        vertical-align: middle;\n",
       "    }\n",
       "\n",
       "    .dataframe tbody tr th {\n",
       "        vertical-align: top;\n",
       "    }\n",
       "\n",
       "    .dataframe thead th {\n",
       "        text-align: right;\n",
       "    }\n",
       "</style>\n",
       "<table border=\"1\" class=\"dataframe\">\n",
       "  <thead>\n",
       "    <tr style=\"text-align: right;\">\n",
       "      <th></th>\n",
       "      <th>0</th>\n",
       "    </tr>\n",
       "  </thead>\n",
       "  <tbody>\n",
       "    <tr>\n",
       "      <th>0</th>\n",
       "      <td>AI</td>\n",
       "    </tr>\n",
       "    <tr>\n",
       "      <th>1</th>\n",
       "      <td>HS</td>\n",
       "    </tr>\n",
       "    <tr>\n",
       "      <th>2</th>\n",
       "      <td>OS</td>\n",
       "    </tr>\n",
       "    <tr>\n",
       "      <th>3</th>\n",
       "      <td>AP</td>\n",
       "    </tr>\n",
       "    <tr>\n",
       "      <th>4</th>\n",
       "      <td>GO</td>\n",
       "    </tr>\n",
       "    <tr>\n",
       "      <th>5</th>\n",
       "      <td>JK</td>\n",
       "    </tr>\n",
       "    <tr>\n",
       "      <th>6</th>\n",
       "      <td>LA</td>\n",
       "    </tr>\n",
       "  </tbody>\n",
       "</table>\n",
       "</div>"
      ],
      "text/plain": [
       "    0\n",
       "0  AI\n",
       "1  HS\n",
       "2  OS\n",
       "3  AP\n",
       "4  GO\n",
       "5  JK\n",
       "6  LA"
      ]
     },
     "execution_count": 11,
     "metadata": {},
     "output_type": "execute_result"
    }
   ],
   "source": [
    "# Unique values in quota\n",
    "\n",
    "Quota = pd.DataFrame(df[\"quota\"].unique())\n",
    "Quota"
   ]
  },
  {
   "cell_type": "code",
   "execution_count": 12,
   "id": "171c1039",
   "metadata": {
    "execution": {
     "iopub.execute_input": "2023-02-13T13:12:58.599668Z",
     "iopub.status.busy": "2023-02-13T13:12:58.598895Z",
     "iopub.status.idle": "2023-02-13T13:12:58.613575Z",
     "shell.execute_reply": "2023-02-13T13:12:58.612506Z"
    },
    "papermill": {
     "duration": 0.039825,
     "end_time": "2023-02-13T13:12:58.615894",
     "exception": false,
     "start_time": "2023-02-13T13:12:58.576069",
     "status": "completed"
    },
    "tags": []
   },
   "outputs": [
    {
     "data": {
      "text/html": [
       "<div>\n",
       "<style scoped>\n",
       "    .dataframe tbody tr th:only-of-type {\n",
       "        vertical-align: middle;\n",
       "    }\n",
       "\n",
       "    .dataframe tbody tr th {\n",
       "        vertical-align: top;\n",
       "    }\n",
       "\n",
       "    .dataframe thead th {\n",
       "        text-align: right;\n",
       "    }\n",
       "</style>\n",
       "<table border=\"1\" class=\"dataframe\">\n",
       "  <thead>\n",
       "    <tr style=\"text-align: right;\">\n",
       "      <th></th>\n",
       "      <th>0</th>\n",
       "    </tr>\n",
       "  </thead>\n",
       "  <tbody>\n",
       "    <tr>\n",
       "      <th>0</th>\n",
       "      <td>Gender-Neutral</td>\n",
       "    </tr>\n",
       "    <tr>\n",
       "      <th>1</th>\n",
       "      <td>Female-Only</td>\n",
       "    </tr>\n",
       "  </tbody>\n",
       "</table>\n",
       "</div>"
      ],
      "text/plain": [
       "                0\n",
       "0  Gender-Neutral\n",
       "1     Female-Only"
      ]
     },
     "execution_count": 12,
     "metadata": {},
     "output_type": "execute_result"
    }
   ],
   "source": [
    "# Unique values in pool\n",
    "\n",
    "Pool = pd.DataFrame(df[\"pool\"].unique())\n",
    "Pool"
   ]
  },
  {
   "cell_type": "code",
   "execution_count": 13,
   "id": "a863d9d7",
   "metadata": {
    "execution": {
     "iopub.execute_input": "2023-02-13T13:12:58.662082Z",
     "iopub.status.busy": "2023-02-13T13:12:58.661062Z",
     "iopub.status.idle": "2023-02-13T13:12:58.677732Z",
     "shell.execute_reply": "2023-02-13T13:12:58.676980Z"
    },
    "papermill": {
     "duration": 0.042273,
     "end_time": "2023-02-13T13:12:58.679774",
     "exception": false,
     "start_time": "2023-02-13T13:12:58.637501",
     "status": "completed"
    },
    "tags": []
   },
   "outputs": [
    {
     "data": {
      "text/html": [
       "<div>\n",
       "<style scoped>\n",
       "    .dataframe tbody tr th:only-of-type {\n",
       "        vertical-align: middle;\n",
       "    }\n",
       "\n",
       "    .dataframe tbody tr th {\n",
       "        vertical-align: top;\n",
       "    }\n",
       "\n",
       "    .dataframe thead th {\n",
       "        text-align: right;\n",
       "    }\n",
       "</style>\n",
       "<table border=\"1\" class=\"dataframe\">\n",
       "  <thead>\n",
       "    <tr style=\"text-align: right;\">\n",
       "      <th></th>\n",
       "      <th>Institute</th>\n",
       "    </tr>\n",
       "  </thead>\n",
       "  <tbody>\n",
       "    <tr>\n",
       "      <th>0</th>\n",
       "      <td>IIT-Bombay</td>\n",
       "    </tr>\n",
       "    <tr>\n",
       "      <th>1</th>\n",
       "      <td>IIT-Delhi</td>\n",
       "    </tr>\n",
       "    <tr>\n",
       "      <th>2</th>\n",
       "      <td>IIT-Kharagpur</td>\n",
       "    </tr>\n",
       "    <tr>\n",
       "      <th>3</th>\n",
       "      <td>IIT-Kanpur</td>\n",
       "    </tr>\n",
       "    <tr>\n",
       "      <th>4</th>\n",
       "      <td>IIT-Madras</td>\n",
       "    </tr>\n",
       "    <tr>\n",
       "      <th>5</th>\n",
       "      <td>IIT-Roorkee</td>\n",
       "    </tr>\n",
       "    <tr>\n",
       "      <th>6</th>\n",
       "      <td>IIT-Guwahati</td>\n",
       "    </tr>\n",
       "    <tr>\n",
       "      <th>7</th>\n",
       "      <td>IIT-Indore</td>\n",
       "    </tr>\n",
       "    <tr>\n",
       "      <th>8</th>\n",
       "      <td>IIT-Hyderabad</td>\n",
       "    </tr>\n",
       "    <tr>\n",
       "      <th>9</th>\n",
       "      <td>IIT-(BHU) Varanasi</td>\n",
       "    </tr>\n",
       "    <tr>\n",
       "      <th>10</th>\n",
       "      <td>IIT-Patna</td>\n",
       "    </tr>\n",
       "    <tr>\n",
       "      <th>11</th>\n",
       "      <td>IIT-(ISM) Dhanbad</td>\n",
       "    </tr>\n",
       "    <tr>\n",
       "      <th>12</th>\n",
       "      <td>IIT-Bhubaneswar</td>\n",
       "    </tr>\n",
       "    <tr>\n",
       "      <th>13</th>\n",
       "      <td>IIT-Mandi</td>\n",
       "    </tr>\n",
       "    <tr>\n",
       "      <th>14</th>\n",
       "      <td>IIT-Gandhinagar</td>\n",
       "    </tr>\n",
       "    <tr>\n",
       "      <th>15</th>\n",
       "      <td>IIT-Ropar</td>\n",
       "    </tr>\n",
       "    <tr>\n",
       "      <th>16</th>\n",
       "      <td>IIT-Jodhpur</td>\n",
       "    </tr>\n",
       "    <tr>\n",
       "      <th>17</th>\n",
       "      <td>IIT-Tirupati</td>\n",
       "    </tr>\n",
       "    <tr>\n",
       "      <th>18</th>\n",
       "      <td>IIT-Bhilai</td>\n",
       "    </tr>\n",
       "    <tr>\n",
       "      <th>19</th>\n",
       "      <td>IIT-Dharwad</td>\n",
       "    </tr>\n",
       "    <tr>\n",
       "      <th>20</th>\n",
       "      <td>IIT-Goa</td>\n",
       "    </tr>\n",
       "    <tr>\n",
       "      <th>21</th>\n",
       "      <td>IIT-Jammu</td>\n",
       "    </tr>\n",
       "    <tr>\n",
       "      <th>22</th>\n",
       "      <td>IIT-Palakkad</td>\n",
       "    </tr>\n",
       "    <tr>\n",
       "      <th>23</th>\n",
       "      <td>NIT-Warangal</td>\n",
       "    </tr>\n",
       "    <tr>\n",
       "      <th>24</th>\n",
       "      <td>NIT-Tiruchirappalli</td>\n",
       "    </tr>\n",
       "    <tr>\n",
       "      <th>25</th>\n",
       "      <td>NIT-Uttarakhand</td>\n",
       "    </tr>\n",
       "    <tr>\n",
       "      <th>26</th>\n",
       "      <td>NIT-Surat</td>\n",
       "    </tr>\n",
       "    <tr>\n",
       "      <th>27</th>\n",
       "      <td>NIT-Nagpur</td>\n",
       "    </tr>\n",
       "    <tr>\n",
       "      <th>28</th>\n",
       "      <td>NIT-Andhra-Pradesh</td>\n",
       "    </tr>\n",
       "    <tr>\n",
       "      <th>29</th>\n",
       "      <td>NIT-Jalandhar</td>\n",
       "    </tr>\n",
       "    <tr>\n",
       "      <th>30</th>\n",
       "      <td>NIT-Jaipur</td>\n",
       "    </tr>\n",
       "    <tr>\n",
       "      <th>31</th>\n",
       "      <td>NIT-Bhopal</td>\n",
       "    </tr>\n",
       "    <tr>\n",
       "      <th>32</th>\n",
       "      <td>NIT-Allahabad</td>\n",
       "    </tr>\n",
       "    <tr>\n",
       "      <th>33</th>\n",
       "      <td>NIT-Calicut</td>\n",
       "    </tr>\n",
       "    <tr>\n",
       "      <th>34</th>\n",
       "      <td>NIT-Agartala</td>\n",
       "    </tr>\n",
       "    <tr>\n",
       "      <th>35</th>\n",
       "      <td>NIT-Delhi</td>\n",
       "    </tr>\n",
       "    <tr>\n",
       "      <th>36</th>\n",
       "      <td>NIT-Durgapur</td>\n",
       "    </tr>\n",
       "    <tr>\n",
       "      <th>37</th>\n",
       "      <td>NIT-Goa</td>\n",
       "    </tr>\n",
       "    <tr>\n",
       "      <th>38</th>\n",
       "      <td>NIT-Hamirpur</td>\n",
       "    </tr>\n",
       "    <tr>\n",
       "      <th>39</th>\n",
       "      <td>NIT-Meghalaya</td>\n",
       "    </tr>\n",
       "    <tr>\n",
       "      <th>40</th>\n",
       "      <td>NIT-Karnataka-Surathkal</td>\n",
       "    </tr>\n",
       "    <tr>\n",
       "      <th>41</th>\n",
       "      <td>NIT-Patna</td>\n",
       "    </tr>\n",
       "    <tr>\n",
       "      <th>42</th>\n",
       "      <td>NIT-Nagaland</td>\n",
       "    </tr>\n",
       "    <tr>\n",
       "      <th>43</th>\n",
       "      <td>NIT-Puducherry</td>\n",
       "    </tr>\n",
       "    <tr>\n",
       "      <th>44</th>\n",
       "      <td>NIT-Raipur</td>\n",
       "    </tr>\n",
       "    <tr>\n",
       "      <th>45</th>\n",
       "      <td>NIT-Sikkim</td>\n",
       "    </tr>\n",
       "    <tr>\n",
       "      <th>46</th>\n",
       "      <td>NIT-Arunachal-Pradesh</td>\n",
       "    </tr>\n",
       "    <tr>\n",
       "      <th>47</th>\n",
       "      <td>NIT-Jamshedpur</td>\n",
       "    </tr>\n",
       "    <tr>\n",
       "      <th>48</th>\n",
       "      <td>NIT-Kurukshetra</td>\n",
       "    </tr>\n",
       "    <tr>\n",
       "      <th>49</th>\n",
       "      <td>NIT-Manipur</td>\n",
       "    </tr>\n",
       "    <tr>\n",
       "      <th>50</th>\n",
       "      <td>NIT-Mizoram</td>\n",
       "    </tr>\n",
       "    <tr>\n",
       "      <th>51</th>\n",
       "      <td>NIT-Rourkela</td>\n",
       "    </tr>\n",
       "    <tr>\n",
       "      <th>52</th>\n",
       "      <td>NIT-Silchar</td>\n",
       "    </tr>\n",
       "    <tr>\n",
       "      <th>53</th>\n",
       "      <td>NIT-Srinagar</td>\n",
       "    </tr>\n",
       "  </tbody>\n",
       "</table>\n",
       "</div>"
      ],
      "text/plain": [
       "                  Institute\n",
       "0                IIT-Bombay\n",
       "1                 IIT-Delhi\n",
       "2             IIT-Kharagpur\n",
       "3                IIT-Kanpur\n",
       "4                IIT-Madras\n",
       "5               IIT-Roorkee\n",
       "6              IIT-Guwahati\n",
       "7                IIT-Indore\n",
       "8             IIT-Hyderabad\n",
       "9        IIT-(BHU) Varanasi\n",
       "10                IIT-Patna\n",
       "11        IIT-(ISM) Dhanbad\n",
       "12          IIT-Bhubaneswar\n",
       "13                IIT-Mandi\n",
       "14          IIT-Gandhinagar\n",
       "15                IIT-Ropar\n",
       "16              IIT-Jodhpur\n",
       "17             IIT-Tirupati\n",
       "18               IIT-Bhilai\n",
       "19              IIT-Dharwad\n",
       "20                  IIT-Goa\n",
       "21                IIT-Jammu\n",
       "22             IIT-Palakkad\n",
       "23             NIT-Warangal\n",
       "24      NIT-Tiruchirappalli\n",
       "25          NIT-Uttarakhand\n",
       "26                NIT-Surat\n",
       "27               NIT-Nagpur\n",
       "28       NIT-Andhra-Pradesh\n",
       "29            NIT-Jalandhar\n",
       "30               NIT-Jaipur\n",
       "31               NIT-Bhopal\n",
       "32            NIT-Allahabad\n",
       "33              NIT-Calicut\n",
       "34             NIT-Agartala\n",
       "35                NIT-Delhi\n",
       "36             NIT-Durgapur\n",
       "37                  NIT-Goa\n",
       "38             NIT-Hamirpur\n",
       "39            NIT-Meghalaya\n",
       "40  NIT-Karnataka-Surathkal\n",
       "41                NIT-Patna\n",
       "42             NIT-Nagaland\n",
       "43           NIT-Puducherry\n",
       "44               NIT-Raipur\n",
       "45               NIT-Sikkim\n",
       "46    NIT-Arunachal-Pradesh\n",
       "47           NIT-Jamshedpur\n",
       "48          NIT-Kurukshetra\n",
       "49              NIT-Manipur\n",
       "50              NIT-Mizoram\n",
       "51             NIT-Rourkela\n",
       "52              NIT-Silchar\n",
       "53             NIT-Srinagar"
      ]
     },
     "execution_count": 13,
     "metadata": {},
     "output_type": "execute_result"
    }
   ],
   "source": [
    "# Various institutions \n",
    "\n",
    "Institutes = pd.DataFrame(df[\"institute_short\"].unique(), columns = {'Institute':0})\n",
    "Institutes "
   ]
  },
  {
   "cell_type": "code",
   "execution_count": 14,
   "id": "73c30b5e",
   "metadata": {
    "execution": {
     "iopub.execute_input": "2023-02-13T13:12:58.725660Z",
     "iopub.status.busy": "2023-02-13T13:12:58.725266Z",
     "iopub.status.idle": "2023-02-13T13:12:58.742532Z",
     "shell.execute_reply": "2023-02-13T13:12:58.741766Z"
    },
    "papermill": {
     "duration": 0.042713,
     "end_time": "2023-02-13T13:12:58.744555",
     "exception": false,
     "start_time": "2023-02-13T13:12:58.701842",
     "status": "completed"
    },
    "tags": []
   },
   "outputs": [
    {
     "data": {
      "text/html": [
       "<div>\n",
       "<style scoped>\n",
       "    .dataframe tbody tr th:only-of-type {\n",
       "        vertical-align: middle;\n",
       "    }\n",
       "\n",
       "    .dataframe tbody tr th {\n",
       "        vertical-align: top;\n",
       "    }\n",
       "\n",
       "    .dataframe thead th {\n",
       "        text-align: right;\n",
       "    }\n",
       "</style>\n",
       "<table border=\"1\" class=\"dataframe\">\n",
       "  <thead>\n",
       "    <tr style=\"text-align: right;\">\n",
       "      <th></th>\n",
       "      <th>program</th>\n",
       "    </tr>\n",
       "  </thead>\n",
       "  <tbody>\n",
       "    <tr>\n",
       "      <th>0</th>\n",
       "      <td>Aerospace Engineering</td>\n",
       "    </tr>\n",
       "    <tr>\n",
       "      <th>1</th>\n",
       "      <td>Chemical Engineering</td>\n",
       "    </tr>\n",
       "    <tr>\n",
       "      <th>2</th>\n",
       "      <td>Chemistry</td>\n",
       "    </tr>\n",
       "    <tr>\n",
       "      <th>3</th>\n",
       "      <td>Civil Engineering</td>\n",
       "    </tr>\n",
       "    <tr>\n",
       "      <th>4</th>\n",
       "      <td>Computer Science and Engineering</td>\n",
       "    </tr>\n",
       "    <tr>\n",
       "      <th>...</th>\n",
       "      <td>...</td>\n",
       "    </tr>\n",
       "    <tr>\n",
       "      <th>125</th>\n",
       "      <td>Food Process Engineering</td>\n",
       "    </tr>\n",
       "    <tr>\n",
       "      <th>126</th>\n",
       "      <td>Ceramic Engineering and M.Tech Industrial Ceramic</td>\n",
       "    </tr>\n",
       "    <tr>\n",
       "      <th>127</th>\n",
       "      <td>Life Science</td>\n",
       "    </tr>\n",
       "    <tr>\n",
       "      <th>128</th>\n",
       "      <td>Mathematics and Data Science</td>\n",
       "    </tr>\n",
       "    <tr>\n",
       "      <th>129</th>\n",
       "      <td>Computational Mathematics</td>\n",
       "    </tr>\n",
       "  </tbody>\n",
       "</table>\n",
       "<p>130 rows × 1 columns</p>\n",
       "</div>"
      ],
      "text/plain": [
       "                                               program\n",
       "0                                Aerospace Engineering\n",
       "1                                 Chemical Engineering\n",
       "2                                            Chemistry\n",
       "3                                    Civil Engineering\n",
       "4                     Computer Science and Engineering\n",
       "..                                                 ...\n",
       "125                           Food Process Engineering\n",
       "126  Ceramic Engineering and M.Tech Industrial Ceramic\n",
       "127                                       Life Science\n",
       "128                       Mathematics and Data Science\n",
       "129                          Computational Mathematics\n",
       "\n",
       "[130 rows x 1 columns]"
      ]
     },
     "execution_count": 14,
     "metadata": {},
     "output_type": "execute_result"
    }
   ],
   "source": [
    "# Various types of programs\n",
    "\n",
    "Programs = pd.DataFrame(df[\"program_name\"].unique(), columns = {'program':0})\n",
    "Programs"
   ]
  },
  {
   "cell_type": "code",
   "execution_count": 15,
   "id": "019ce8f5",
   "metadata": {
    "execution": {
     "iopub.execute_input": "2023-02-13T13:12:58.791404Z",
     "iopub.status.busy": "2023-02-13T13:12:58.791009Z",
     "iopub.status.idle": "2023-02-13T13:12:58.806120Z",
     "shell.execute_reply": "2023-02-13T13:12:58.805150Z"
    },
    "papermill": {
     "duration": 0.041309,
     "end_time": "2023-02-13T13:12:58.808514",
     "exception": false,
     "start_time": "2023-02-13T13:12:58.767205",
     "status": "completed"
    },
    "tags": []
   },
   "outputs": [
    {
     "data": {
      "text/html": [
       "<div>\n",
       "<style scoped>\n",
       "    .dataframe tbody tr th:only-of-type {\n",
       "        vertical-align: middle;\n",
       "    }\n",
       "\n",
       "    .dataframe tbody tr th {\n",
       "        vertical-align: top;\n",
       "    }\n",
       "\n",
       "    .dataframe thead th {\n",
       "        text-align: right;\n",
       "    }\n",
       "</style>\n",
       "<table border=\"1\" class=\"dataframe\">\n",
       "  <thead>\n",
       "    <tr style=\"text-align: right;\">\n",
       "      <th></th>\n",
       "      <th>Degree</th>\n",
       "    </tr>\n",
       "  </thead>\n",
       "  <tbody>\n",
       "    <tr>\n",
       "      <th>0</th>\n",
       "      <td>B.Tech</td>\n",
       "    </tr>\n",
       "    <tr>\n",
       "      <th>1</th>\n",
       "      <td>BSc</td>\n",
       "    </tr>\n",
       "    <tr>\n",
       "      <th>2</th>\n",
       "      <td>B.Tech + M.Tech (IDD)</td>\n",
       "    </tr>\n",
       "    <tr>\n",
       "      <th>3</th>\n",
       "      <td>Int MSc.</td>\n",
       "    </tr>\n",
       "    <tr>\n",
       "      <th>4</th>\n",
       "      <td>B.Arch</td>\n",
       "    </tr>\n",
       "    <tr>\n",
       "      <th>5</th>\n",
       "      <td>Int M.Tech</td>\n",
       "    </tr>\n",
       "    <tr>\n",
       "      <th>6</th>\n",
       "      <td>B.Pharm</td>\n",
       "    </tr>\n",
       "    <tr>\n",
       "      <th>7</th>\n",
       "      <td>B.Pharm + M.Pharm</td>\n",
       "    </tr>\n",
       "    <tr>\n",
       "      <th>8</th>\n",
       "      <td>BS + MS (IDD)</td>\n",
       "    </tr>\n",
       "    <tr>\n",
       "      <th>9</th>\n",
       "      <td>Int Msc.</td>\n",
       "    </tr>\n",
       "    <tr>\n",
       "      <th>10</th>\n",
       "      <td>B.Plan</td>\n",
       "    </tr>\n",
       "    <tr>\n",
       "      <th>11</th>\n",
       "      <td>Btech + M.Tech (IDD)</td>\n",
       "    </tr>\n",
       "    <tr>\n",
       "      <th>12</th>\n",
       "      <td>BSc + MSc (IDD)</td>\n",
       "    </tr>\n",
       "  </tbody>\n",
       "</table>\n",
       "</div>"
      ],
      "text/plain": [
       "                   Degree\n",
       "0                  B.Tech\n",
       "1                     BSc\n",
       "2   B.Tech + M.Tech (IDD)\n",
       "3                Int MSc.\n",
       "4                  B.Arch\n",
       "5              Int M.Tech\n",
       "6                 B.Pharm\n",
       "7       B.Pharm + M.Pharm\n",
       "8           BS + MS (IDD)\n",
       "9                Int Msc.\n",
       "10                 B.Plan\n",
       "11   Btech + M.Tech (IDD)\n",
       "12        BSc + MSc (IDD)"
      ]
     },
     "execution_count": 15,
     "metadata": {},
     "output_type": "execute_result"
    }
   ],
   "source": [
    "# Various degrees\n",
    "\n",
    "Degree = pd.DataFrame(df[\"degree_short\"].unique(), columns = {'Degree':0})\n",
    "Degree"
   ]
  },
  {
   "cell_type": "code",
   "execution_count": 16,
   "id": "e9d934a1",
   "metadata": {
    "execution": {
     "iopub.execute_input": "2023-02-13T13:12:58.856559Z",
     "iopub.status.busy": "2023-02-13T13:12:58.855964Z",
     "iopub.status.idle": "2023-02-13T13:12:58.866752Z",
     "shell.execute_reply": "2023-02-13T13:12:58.865779Z"
    },
    "papermill": {
     "duration": 0.037119,
     "end_time": "2023-02-13T13:12:58.869113",
     "exception": false,
     "start_time": "2023-02-13T13:12:58.831994",
     "status": "completed"
    },
    "tags": []
   },
   "outputs": [],
   "source": [
    "# Correcting the values\n",
    "\n",
    "df.loc[df[\"degree_short\"] == \"Int Msc.\", \"degree_short\"] = \"Int MSc.\""
   ]
  },
  {
   "cell_type": "code",
   "execution_count": 17,
   "id": "8068e494",
   "metadata": {
    "execution": {
     "iopub.execute_input": "2023-02-13T13:12:58.915936Z",
     "iopub.status.busy": "2023-02-13T13:12:58.915530Z",
     "iopub.status.idle": "2023-02-13T13:12:58.925838Z",
     "shell.execute_reply": "2023-02-13T13:12:58.925123Z"
    },
    "papermill": {
     "duration": 0.03617,
     "end_time": "2023-02-13T13:12:58.927832",
     "exception": false,
     "start_time": "2023-02-13T13:12:58.891662",
     "status": "completed"
    },
    "tags": []
   },
   "outputs": [
    {
     "data": {
      "text/plain": [
       "12"
      ]
     },
     "execution_count": 17,
     "metadata": {},
     "output_type": "execute_result"
    }
   ],
   "source": [
    "df[\"degree_short\"].nunique()"
   ]
  },
  {
   "cell_type": "code",
   "execution_count": 18,
   "id": "a15e1033",
   "metadata": {
    "execution": {
     "iopub.execute_input": "2023-02-13T13:12:58.976207Z",
     "iopub.status.busy": "2023-02-13T13:12:58.975634Z",
     "iopub.status.idle": "2023-02-13T13:12:58.988704Z",
     "shell.execute_reply": "2023-02-13T13:12:58.987942Z"
    },
    "papermill": {
     "duration": 0.039607,
     "end_time": "2023-02-13T13:12:58.990788",
     "exception": false,
     "start_time": "2023-02-13T13:12:58.951181",
     "status": "completed"
    },
    "tags": []
   },
   "outputs": [
    {
     "data": {
      "text/html": [
       "<div>\n",
       "<style scoped>\n",
       "    .dataframe tbody tr th:only-of-type {\n",
       "        vertical-align: middle;\n",
       "    }\n",
       "\n",
       "    .dataframe tbody tr th {\n",
       "        vertical-align: top;\n",
       "    }\n",
       "\n",
       "    .dataframe thead th {\n",
       "        text-align: right;\n",
       "    }\n",
       "</style>\n",
       "<table border=\"1\" class=\"dataframe\">\n",
       "  <thead>\n",
       "    <tr style=\"text-align: right;\">\n",
       "      <th></th>\n",
       "      <th>0</th>\n",
       "    </tr>\n",
       "  </thead>\n",
       "  <tbody>\n",
       "    <tr>\n",
       "      <th>0</th>\n",
       "      <td>GEN</td>\n",
       "    </tr>\n",
       "    <tr>\n",
       "      <th>1</th>\n",
       "      <td>OBC-NCL</td>\n",
       "    </tr>\n",
       "    <tr>\n",
       "      <th>2</th>\n",
       "      <td>SC</td>\n",
       "    </tr>\n",
       "    <tr>\n",
       "      <th>3</th>\n",
       "      <td>ST</td>\n",
       "    </tr>\n",
       "    <tr>\n",
       "      <th>4</th>\n",
       "      <td>GEN-PWD</td>\n",
       "    </tr>\n",
       "    <tr>\n",
       "      <th>5</th>\n",
       "      <td>OBC-NCL-PWD</td>\n",
       "    </tr>\n",
       "    <tr>\n",
       "      <th>6</th>\n",
       "      <td>SC-PWD</td>\n",
       "    </tr>\n",
       "    <tr>\n",
       "      <th>7</th>\n",
       "      <td>ST-PWD</td>\n",
       "    </tr>\n",
       "    <tr>\n",
       "      <th>8</th>\n",
       "      <td>GEN-EWS</td>\n",
       "    </tr>\n",
       "    <tr>\n",
       "      <th>9</th>\n",
       "      <td>GEN-EWS-PWD</td>\n",
       "    </tr>\n",
       "  </tbody>\n",
       "</table>\n",
       "</div>"
      ],
      "text/plain": [
       "             0\n",
       "0          GEN\n",
       "1      OBC-NCL\n",
       "2           SC\n",
       "3           ST\n",
       "4      GEN-PWD\n",
       "5  OBC-NCL-PWD\n",
       "6       SC-PWD\n",
       "7       ST-PWD\n",
       "8      GEN-EWS\n",
       "9  GEN-EWS-PWD"
      ]
     },
     "execution_count": 18,
     "metadata": {},
     "output_type": "execute_result"
    }
   ],
   "source": [
    "# Unique values in category\n",
    "\n",
    "Category = pd.DataFrame(df[\"category\"].unique())\n",
    "Category"
   ]
  },
  {
   "cell_type": "code",
   "execution_count": 19,
   "id": "8d0acbdc",
   "metadata": {
    "execution": {
     "iopub.execute_input": "2023-02-13T13:12:59.039247Z",
     "iopub.status.busy": "2023-02-13T13:12:59.038657Z",
     "iopub.status.idle": "2023-02-13T13:13:00.221593Z",
     "shell.execute_reply": "2023-02-13T13:13:00.220270Z"
    },
    "papermill": {
     "duration": 1.21051,
     "end_time": "2023-02-13T13:13:00.224610",
     "exception": false,
     "start_time": "2023-02-13T13:12:59.014100",
     "status": "completed"
    },
    "tags": []
   },
   "outputs": [
    {
     "data": {
      "text/plain": [
       "<Axes: >"
      ]
     },
     "execution_count": 19,
     "metadata": {},
     "output_type": "execute_result"
    },
    {
     "data": {
      "image/png": "[encoded data removed]",
      "text/plain": [
       "<Figure size 640x480 with 2 Axes>"
      ]
     },
     "metadata": {},
     "output_type": "display_data"
    }
   ],
   "source": [
    "# Checking the null values in dataset\n",
    "\n",
    "sns.heatmap(df.isnull(),yticklabels=False,cmap='viridis', alpha = 0.5)"
   ]
  },
  {
   "cell_type": "code",
   "execution_count": 20,
   "id": "9fa2934f",
   "metadata": {
    "execution": {
     "iopub.execute_input": "2023-02-13T13:13:00.275113Z",
     "iopub.status.busy": "2023-02-13T13:13:00.273862Z",
     "iopub.status.idle": "2023-02-13T13:13:00.582382Z",
     "shell.execute_reply": "2023-02-13T13:13:00.580960Z"
    },
    "papermill": {
     "duration": 0.336988,
     "end_time": "2023-02-13T13:13:00.585550",
     "exception": false,
     "start_time": "2023-02-13T13:13:00.248562",
     "status": "completed"
    },
    "tags": []
   },
   "outputs": [],
   "source": [
    "# Creating new CSV file After correcting the Dataset\n",
    "\n",
    "df.to_csv(\"iit-and-nit-colleges-admission-criteria-version-2.csv\")"
   ]
  },
  {
   "cell_type": "markdown",
   "id": "53e90a24",
   "metadata": {
    "papermill": {
     "duration": 0.023862,
     "end_time": "2023-02-13T13:13:00.633699",
     "exception": false,
     "start_time": "2023-02-13T13:13:00.609837",
     "status": "completed"
    },
    "tags": []
   },
   "source": [
    "***"
   ]
  },
  {
   "cell_type": "code",
   "execution_count": 21,
   "id": "3924fb58",
   "metadata": {
    "execution": {
     "iopub.execute_input": "2023-02-13T13:13:00.733814Z",
     "iopub.status.busy": "2023-02-13T13:13:00.732863Z",
     "iopub.status.idle": "2023-02-13T13:13:01.679965Z",
     "shell.execute_reply": "2023-02-13T13:13:01.678508Z"
    },
    "papermill": {
     "duration": 0.975773,
     "end_time": "2023-02-13T13:13:01.683346",
     "exception": false,
     "start_time": "2023-02-13T13:13:00.707573",
     "status": "completed"
    },
    "tags": []
   },
   "outputs": [
    {
     "data": {
      "image/png": "[encoded data removed]",
      "text/plain": [
       "<Figure size 1500x800 with 1 Axes>"
      ]
     },
     "metadata": {},
     "output_type": "display_data"
    }
   ],
   "source": [
    "#Let's check out All Institutes in the dataset\n",
    "\n",
    "plt.figure(figsize=(15,8))\n",
    "institutes = df.groupby(['institute_short']).size().plot(kind = 'bar', color = \"#5cd65c\", alpha = 0.5)\n",
    "plt.show()"
   ]
  },
  {
   "cell_type": "code",
   "execution_count": 22,
   "id": "2baf056a",
   "metadata": {
    "execution": {
     "iopub.execute_input": "2023-02-13T13:13:01.737573Z",
     "iopub.status.busy": "2023-02-13T13:13:01.737099Z",
     "iopub.status.idle": "2023-02-13T13:13:01.944179Z",
     "shell.execute_reply": "2023-02-13T13:13:01.942663Z"
    },
    "papermill": {
     "duration": 0.237961,
     "end_time": "2023-02-13T13:13:01.946953",
     "exception": false,
     "start_time": "2023-02-13T13:13:01.708992",
     "status": "completed"
    },
    "tags": []
   },
   "outputs": [
    {
     "data": {
      "text/plain": [
       "Text(0, 0.5, 'students')"
      ]
     },
     "execution_count": 22,
     "metadata": {},
     "output_type": "execute_result"
    },
    {
     "data": {
      "image/png": "[encoded data removed]",
      "text/plain": [
       "<Figure size 1500x800 with 1 Axes>"
      ]
     },
     "metadata": {},
     "output_type": "display_data"
    }
   ],
   "source": [
    "# Students admitted per year\n",
    "\n",
    "plt.figure(figsize=(15,8))\n",
    "plt.title('student per year')\n",
    "sns.lineplot(x=['2021','2020','2019','2018','2017','2016'],y=df['year'].value_counts(), color = \"#ff1a1a\", alpha = 0.5)\n",
    "plt.ylabel('students')"
   ]
  },
  {
   "cell_type": "code",
   "execution_count": 23,
   "id": "505b6d33",
   "metadata": {
    "execution": {
     "iopub.execute_input": "2023-02-13T13:13:02.055065Z",
     "iopub.status.busy": "2023-02-13T13:13:02.054127Z",
     "iopub.status.idle": "2023-02-13T13:13:02.065221Z",
     "shell.execute_reply": "2023-02-13T13:13:02.064445Z"
    },
    "papermill": {
     "duration": 0.042144,
     "end_time": "2023-02-13T13:13:02.067516",
     "exception": false,
     "start_time": "2023-02-13T13:13:02.025372",
     "status": "completed"
    },
    "tags": []
   },
   "outputs": [
    {
     "data": {
      "text/plain": [
       "quota\n",
       "AI    32905\n",
       "OS    16962\n",
       "HS    14291\n",
       "JK      393\n",
       "GO      275\n",
       "AP       72\n",
       "LA       60\n",
       "Name: count, dtype: int64"
      ]
     },
     "execution_count": 23,
     "metadata": {},
     "output_type": "execute_result"
    }
   ],
   "source": [
    "max_quota = df['quota'].value_counts()\n",
    "max_quota"
   ]
  },
  {
   "cell_type": "code",
   "execution_count": 24,
   "id": "dbaa52cd",
   "metadata": {
    "execution": {
     "iopub.execute_input": "2023-02-13T13:13:02.172957Z",
     "iopub.status.busy": "2023-02-13T13:13:02.172402Z",
     "iopub.status.idle": "2023-02-13T13:13:02.335387Z",
     "shell.execute_reply": "2023-02-13T13:13:02.334161Z"
    },
    "papermill": {
     "duration": 0.193095,
     "end_time": "2023-02-13T13:13:02.338354",
     "exception": false,
     "start_time": "2023-02-13T13:13:02.145259",
     "status": "completed"
    },
    "tags": []
   },
   "outputs": [
    {
     "data": {
      "image/png": "[encoded data removed]",
      "text/plain": [
       "<Figure size 1500x800 with 1 Axes>"
      ]
     },
     "metadata": {},
     "output_type": "display_data"
    }
   ],
   "source": [
    "plt.figure(figsize=(15,8))\n",
    "plt.plot(max_quota, color = \"#2e2eb8\", alpha = 0.5)\n",
    "plt.show()"
   ]
  },
  {
   "cell_type": "code",
   "execution_count": 25,
   "id": "93dfa89d",
   "metadata": {
    "execution": {
     "iopub.execute_input": "2023-02-13T13:13:02.394874Z",
     "iopub.status.busy": "2023-02-13T13:13:02.394140Z",
     "iopub.status.idle": "2023-02-13T13:13:02.673646Z",
     "shell.execute_reply": "2023-02-13T13:13:02.672222Z"
    },
    "papermill": {
     "duration": 0.312106,
     "end_time": "2023-02-13T13:13:02.676969",
     "exception": false,
     "start_time": "2023-02-13T13:13:02.364863",
     "status": "completed"
    },
    "tags": []
   },
   "outputs": [
    {
     "data": {
      "image/png": "[encoded data removed]",
      "text/plain": [
       "<Figure size 1500x800 with 1 Axes>"
      ]
     },
     "metadata": {},
     "output_type": "display_data"
    }
   ],
   "source": [
    "#Yearly quota study\n",
    "\n",
    "plt.figure(figsize=(15,8))\n",
    "year_club = df.groupby(['year', 'quota']).size().plot(kind = 'bar', color = \"#000000\", alpha = 0.5)"
   ]
  },
  {
   "cell_type": "markdown",
   "id": "e8af8e51",
   "metadata": {
    "papermill": {
     "duration": 0.025713,
     "end_time": "2023-02-13T13:13:02.836727",
     "exception": false,
     "start_time": "2023-02-13T13:13:02.811014",
     "status": "completed"
    },
    "tags": []
   },
   "source": [
    "----------------------------------------------------------------------------- **Opening Ranks** --------------------------------------------------------------------------------"
   ]
  },
  {
   "cell_type": "code",
   "execution_count": 26,
   "id": "06d65765",
   "metadata": {
    "execution": {
     "iopub.execute_input": "2023-02-13T13:13:02.893220Z",
     "iopub.status.busy": "2023-02-13T13:13:02.892211Z",
     "iopub.status.idle": "2023-02-13T13:13:02.901682Z",
     "shell.execute_reply": "2023-02-13T13:13:02.899760Z"
    },
    "papermill": {
     "duration": 0.041459,
     "end_time": "2023-02-13T13:13:02.904209",
     "exception": false,
     "start_time": "2023-02-13T13:13:02.862750",
     "status": "completed"
    },
    "tags": []
   },
   "outputs": [
    {
     "name": "stdout",
     "output_type": "stream",
     "text": [
      "Average opening rank over the years has been -  8260\n"
     ]
    }
   ],
   "source": [
    "avg_opening_rank = df['opening_rank'].mean(axis = 0)\n",
    "avg_open_rank = round(avg_opening_rank)\n",
    "print(\"Average opening rank over the years has been - \", avg_open_rank)"
   ]
  },
  {
   "cell_type": "code",
   "execution_count": 27,
   "id": "9013716b",
   "metadata": {
    "execution": {
     "iopub.execute_input": "2023-02-13T13:13:02.960721Z",
     "iopub.status.busy": "2023-02-13T13:13:02.959984Z",
     "iopub.status.idle": "2023-02-13T13:13:02.966778Z",
     "shell.execute_reply": "2023-02-13T13:13:02.965699Z"
    },
    "papermill": {
     "duration": 0.037443,
     "end_time": "2023-02-13T13:13:02.969138",
     "exception": false,
     "start_time": "2023-02-13T13:13:02.931695",
     "status": "completed"
    },
    "tags": []
   },
   "outputs": [
    {
     "name": "stdout",
     "output_type": "stream",
     "text": [
      "Max opening rank over the years has been -  1082601\n"
     ]
    }
   ],
   "source": [
    "max_opening_rank = df['opening_rank'].max(axis = 0)\n",
    "max_open_rank = round(max_opening_rank)\n",
    "print(\"Max opening rank over the years has been - \", max_open_rank)"
   ]
  },
  {
   "cell_type": "code",
   "execution_count": 28,
   "id": "9e9e966a",
   "metadata": {
    "execution": {
     "iopub.execute_input": "2023-02-13T13:13:03.023116Z",
     "iopub.status.busy": "2023-02-13T13:13:03.022709Z",
     "iopub.status.idle": "2023-02-13T13:13:03.028765Z",
     "shell.execute_reply": "2023-02-13T13:13:03.028011Z"
    },
    "papermill": {
     "duration": 0.035633,
     "end_time": "2023-02-13T13:13:03.031019",
     "exception": false,
     "start_time": "2023-02-13T13:13:02.995386",
     "status": "completed"
    },
    "tags": []
   },
   "outputs": [
    {
     "name": "stdout",
     "output_type": "stream",
     "text": [
      "Min opening rank over the years has been -  0\n"
     ]
    }
   ],
   "source": [
    "min_opening_rank = df['opening_rank'].min(axis = 0)\n",
    "min_open_rank = round(min_opening_rank)\n",
    "print(\"Min opening rank over the years has been - \", min_open_rank)"
   ]
  },
  {
   "cell_type": "markdown",
   "id": "ea827726",
   "metadata": {
    "papermill": {
     "duration": 0.025541,
     "end_time": "2023-02-13T13:13:03.082482",
     "exception": false,
     "start_time": "2023-02-13T13:13:03.056941",
     "status": "completed"
    },
    "tags": []
   },
   "source": [
    "------------------------------------------------------------------------------ **Closing Ranks** --------------------------------------------------------------------------------"
   ]
  },
  {
   "cell_type": "code",
   "execution_count": 29,
   "id": "f07a2b51",
   "metadata": {
    "execution": {
     "iopub.execute_input": "2023-02-13T13:13:03.136930Z",
     "iopub.status.busy": "2023-02-13T13:13:03.136191Z",
     "iopub.status.idle": "2023-02-13T13:13:03.142982Z",
     "shell.execute_reply": "2023-02-13T13:13:03.141839Z"
    },
    "papermill": {
     "duration": 0.036454,
     "end_time": "2023-02-13T13:13:03.145454",
     "exception": false,
     "start_time": "2023-02-13T13:13:03.109000",
     "status": "completed"
    },
    "tags": []
   },
   "outputs": [
    {
     "name": "stdout",
     "output_type": "stream",
     "text": [
      "Average closing rank over the years has been -  10705\n"
     ]
    }
   ],
   "source": [
    "avg_closing_rank = round(df['closing_rank'].mean(axis = 0))\n",
    "print(\"Average closing rank over the years has been - \", avg_closing_rank)"
   ]
  },
  {
   "cell_type": "code",
   "execution_count": 30,
   "id": "d018dc86",
   "metadata": {
    "execution": {
     "iopub.execute_input": "2023-02-13T13:13:03.200007Z",
     "iopub.status.busy": "2023-02-13T13:13:03.199249Z",
     "iopub.status.idle": "2023-02-13T13:13:03.206037Z",
     "shell.execute_reply": "2023-02-13T13:13:03.204800Z"
    },
    "papermill": {
     "duration": 0.036079,
     "end_time": "2023-02-13T13:13:03.208289",
     "exception": false,
     "start_time": "2023-02-13T13:13:03.172210",
     "status": "completed"
    },
    "tags": []
   },
   "outputs": [
    {
     "name": "stdout",
     "output_type": "stream",
     "text": [
      "Max closing rank over the years has been -  1144790\n"
     ]
    }
   ],
   "source": [
    "max_closing_rank = df['closing_rank'].max(axis = 0)\n",
    "max_close_rank = round(max_closing_rank)\n",
    "print(\"Max closing rank over the years has been - \", max_close_rank)"
   ]
  },
  {
   "cell_type": "code",
   "execution_count": 31,
   "id": "2122c2ab",
   "metadata": {
    "execution": {
     "iopub.execute_input": "2023-02-13T13:13:03.261937Z",
     "iopub.status.busy": "2023-02-13T13:13:03.261559Z",
     "iopub.status.idle": "2023-02-13T13:13:03.268016Z",
     "shell.execute_reply": "2023-02-13T13:13:03.266838Z"
    },
    "papermill": {
     "duration": 0.036674,
     "end_time": "2023-02-13T13:13:03.270881",
     "exception": false,
     "start_time": "2023-02-13T13:13:03.234207",
     "status": "completed"
    },
    "tags": []
   },
   "outputs": [
    {
     "name": "stdout",
     "output_type": "stream",
     "text": [
      "Min closing rank over the years has been -  0\n"
     ]
    }
   ],
   "source": [
    "min_closing_rank = df['closing_rank'].min(axis = 0)\n",
    "min_close_rank = round(min_closing_rank)\n",
    "print(\"Min closing rank over the years has been - \", min_close_rank)"
   ]
  },
  {
   "cell_type": "code",
   "execution_count": 32,
   "id": "b7eb2054",
   "metadata": {
    "execution": {
     "iopub.execute_input": "2023-02-13T13:13:03.479157Z",
     "iopub.status.busy": "2023-02-13T13:13:03.478778Z",
     "iopub.status.idle": "2023-02-13T13:13:03.713373Z",
     "shell.execute_reply": "2023-02-13T13:13:03.712491Z"
    },
    "papermill": {
     "duration": 0.263908,
     "end_time": "2023-02-13T13:13:03.715546",
     "exception": false,
     "start_time": "2023-02-13T13:13:03.451638",
     "status": "completed"
    },
    "tags": []
   },
   "outputs": [
    {
     "data": {
      "image/png": "[encoded data removed]",
      "text/plain": [
       "<Figure size 1500x800 with 1 Axes>"
      ]
     },
     "metadata": {},
     "output_type": "display_data"
    }
   ],
   "source": [
    "# Which universities/colleges provide preparatory courses (represented by 1)\n",
    "\n",
    "plt.figure(figsize=(15,8))\n",
    "prep_true = df.loc[df['is_preparatory'] == 1, 'institute_short'].value_counts()\n",
    "plt.plot(prep_true, 'h', color = \"#ff0000\", alpha = 0.5)\n",
    "plt.xticks(rotation = 60)\n",
    "plt.show() "
   ]
  },
  {
   "cell_type": "code",
   "execution_count": 33,
   "id": "038049c7",
   "metadata": {
    "execution": {
     "iopub.execute_input": "2023-02-13T13:13:03.878097Z",
     "iopub.status.busy": "2023-02-13T13:13:03.877379Z",
     "iopub.status.idle": "2023-02-13T13:13:04.066293Z",
     "shell.execute_reply": "2023-02-13T13:13:04.065412Z"
    },
    "papermill": {
     "duration": 0.219217,
     "end_time": "2023-02-13T13:13:04.068511",
     "exception": false,
     "start_time": "2023-02-13T13:13:03.849294",
     "status": "completed"
    },
    "tags": []
   },
   "outputs": [
    {
     "data": {
      "image/png": "[encoded data removed]",
      "text/plain": [
       "<Figure size 1500x800 with 1 Axes>"
      ]
     },
     "metadata": {},
     "output_type": "display_data"
    }
   ],
   "source": [
    "plt.figure(figsize=(15,8))\n",
    "category_true = df.loc[df['is_preparatory'] == 1, 'category'].value_counts()\n",
    "category_plot = category_true.plot(kind = 'bar', color = \"#000066\", alpha = 0.5)\n",
    "\n",
    "plt.xticks(rotation = 360)\n",
    "plt.legend()\n",
    "plt.show()"
   ]
  },
  {
   "cell_type": "code",
   "execution_count": 34,
   "id": "bdbe3b62",
   "metadata": {
    "execution": {
     "iopub.execute_input": "2023-02-13T13:13:04.232537Z",
     "iopub.status.busy": "2023-02-13T13:13:04.231810Z",
     "iopub.status.idle": "2023-02-13T13:13:04.593633Z",
     "shell.execute_reply": "2023-02-13T13:13:04.592479Z"
    },
    "papermill": {
     "duration": 0.392642,
     "end_time": "2023-02-13T13:13:04.596041",
     "exception": false,
     "start_time": "2023-02-13T13:13:04.203399",
     "status": "completed"
    },
    "tags": []
   },
   "outputs": [
    {
     "data": {
      "image/png": "[encoded data removed]",
      "text/plain": [
       "<Figure size 1500x800 with 1 Axes>"
      ]
     },
     "metadata": {},
     "output_type": "display_data"
    }
   ],
   "source": [
    "plt.figure(figsize=(15,8))\n",
    "year_club = df.groupby(['degree_short','institute_short']).institute_short.count().head(20).plot(kind = 'bar',color = \"#ff6600\", alpha = 0.5)\n",
    "plt.legend()\n",
    "plt.show()"
   ]
  },
  {
   "cell_type": "code",
   "execution_count": 35,
   "id": "d2f139fd",
   "metadata": {
    "execution": {
     "iopub.execute_input": "2023-02-13T13:13:04.769160Z",
     "iopub.status.busy": "2023-02-13T13:13:04.768775Z",
     "iopub.status.idle": "2023-02-13T13:13:05.058120Z",
     "shell.execute_reply": "2023-02-13T13:13:05.057213Z"
    },
    "papermill": {
     "duration": 0.321566,
     "end_time": "2023-02-13T13:13:05.060711",
     "exception": false,
     "start_time": "2023-02-13T13:13:04.739145",
     "status": "completed"
    },
    "tags": []
   },
   "outputs": [
    {
     "data": {
      "image/png": "[encoded data removed]",
      "text/plain": [
       "<Figure size 1500x800 with 1 Axes>"
      ]
     },
     "metadata": {},
     "output_type": "display_data"
    }
   ],
   "source": [
    "#Institutes with 4 year courses\n",
    "\n",
    "plt.figure(figsize=(15,8))\n",
    "\n",
    "years_true = df.loc[df['program_duration'] == '4 Years', 'institute_short'].value_counts().head(20).plot(kind = 'bar',color = \"#47d147\", alpha = 0.5)\n",
    "\n",
    "plt.legend()\n",
    "plt.show()"
   ]
  },
  {
   "cell_type": "code",
   "execution_count": 36,
   "id": "ff422b65",
   "metadata": {
    "execution": {
     "iopub.execute_input": "2023-02-13T13:13:05.179273Z",
     "iopub.status.busy": "2023-02-13T13:13:05.178557Z",
     "iopub.status.idle": "2023-02-13T13:13:05.459216Z",
     "shell.execute_reply": "2023-02-13T13:13:05.457888Z"
    },
    "papermill": {
     "duration": 0.314267,
     "end_time": "2023-02-13T13:13:05.462057",
     "exception": false,
     "start_time": "2023-02-13T13:13:05.147790",
     "status": "completed"
    },
    "tags": []
   },
   "outputs": [
    {
     "data": {
      "image/png": "[encoded data removed]",
      "text/plain": [
       "<Figure size 1500x800 with 1 Axes>"
      ]
     },
     "metadata": {},
     "output_type": "display_data"
    }
   ],
   "source": [
    "#Institutes with 5 year courses\n",
    "\n",
    "plt.figure(figsize=(15,8))\n",
    "\n",
    "years_true = df.loc[df['program_duration'] == '5 Years', 'institute_short'].value_counts().head(20).plot(kind = 'bar',color = \"#ff4da6\", alpha = 0.5)\n",
    "plt.legend()\n",
    "plt.show()"
   ]
  },
  {
   "cell_type": "markdown",
   "id": "ae754689",
   "metadata": {
    "papermill": {
     "duration": 0.028812,
     "end_time": "2023-02-13T13:13:05.579060",
     "exception": false,
     "start_time": "2023-02-13T13:13:05.550248",
     "status": "completed"
    },
    "tags": []
   },
   "source": [
    "***"
   ]
  },
  {
   "cell_type": "code",
   "execution_count": 37,
   "id": "13fac05b",
   "metadata": {
    "execution": {
     "iopub.execute_input": "2023-02-13T13:13:05.756499Z",
     "iopub.status.busy": "2023-02-13T13:13:05.756033Z",
     "iopub.status.idle": "2023-02-13T13:13:05.774560Z",
     "shell.execute_reply": "2023-02-13T13:13:05.773298Z"
    },
    "papermill": {
     "duration": 0.051365,
     "end_time": "2023-02-13T13:13:05.776822",
     "exception": false,
     "start_time": "2023-02-13T13:13:05.725457",
     "status": "completed"
    },
    "tags": []
   },
   "outputs": [
    {
     "data": {
      "text/html": [
       "<div>\n",
       "<style scoped>\n",
       "    .dataframe tbody tr th:only-of-type {\n",
       "        vertical-align: middle;\n",
       "    }\n",
       "\n",
       "    .dataframe tbody tr th {\n",
       "        vertical-align: top;\n",
       "    }\n",
       "\n",
       "    .dataframe thead th {\n",
       "        text-align: right;\n",
       "    }\n",
       "</style>\n",
       "<table border=\"1\" class=\"dataframe\">\n",
       "  <thead>\n",
       "    <tr style=\"text-align: right;\">\n",
       "      <th></th>\n",
       "      <th>year</th>\n",
       "      <th>institute_type</th>\n",
       "      <th>round_no</th>\n",
       "      <th>quota</th>\n",
       "      <th>pool</th>\n",
       "      <th>institute_short</th>\n",
       "      <th>program_name</th>\n",
       "      <th>program_duration</th>\n",
       "      <th>degree_short</th>\n",
       "      <th>category</th>\n",
       "      <th>opening_rank</th>\n",
       "      <th>closing_rank</th>\n",
       "      <th>is_preparatory</th>\n",
       "    </tr>\n",
       "  </thead>\n",
       "  <tbody>\n",
       "    <tr>\n",
       "      <th>0</th>\n",
       "      <td>2016</td>\n",
       "      <td>IIT</td>\n",
       "      <td>6</td>\n",
       "      <td>AI</td>\n",
       "      <td>Gender-Neutral</td>\n",
       "      <td>IIT-Bombay</td>\n",
       "      <td>Aerospace Engineering</td>\n",
       "      <td>4 Years</td>\n",
       "      <td>B.Tech</td>\n",
       "      <td>GEN</td>\n",
       "      <td>838</td>\n",
       "      <td>1841</td>\n",
       "      <td>0</td>\n",
       "    </tr>\n",
       "    <tr>\n",
       "      <th>1</th>\n",
       "      <td>2016</td>\n",
       "      <td>IIT</td>\n",
       "      <td>6</td>\n",
       "      <td>AI</td>\n",
       "      <td>Gender-Neutral</td>\n",
       "      <td>IIT-Bombay</td>\n",
       "      <td>Aerospace Engineering</td>\n",
       "      <td>4 Years</td>\n",
       "      <td>B.Tech</td>\n",
       "      <td>OBC-NCL</td>\n",
       "      <td>408</td>\n",
       "      <td>1098</td>\n",
       "      <td>0</td>\n",
       "    </tr>\n",
       "    <tr>\n",
       "      <th>2</th>\n",
       "      <td>2016</td>\n",
       "      <td>IIT</td>\n",
       "      <td>6</td>\n",
       "      <td>AI</td>\n",
       "      <td>Gender-Neutral</td>\n",
       "      <td>IIT-Bombay</td>\n",
       "      <td>Aerospace Engineering</td>\n",
       "      <td>4 Years</td>\n",
       "      <td>B.Tech</td>\n",
       "      <td>SC</td>\n",
       "      <td>297</td>\n",
       "      <td>468</td>\n",
       "      <td>0</td>\n",
       "    </tr>\n",
       "    <tr>\n",
       "      <th>3</th>\n",
       "      <td>2016</td>\n",
       "      <td>IIT</td>\n",
       "      <td>6</td>\n",
       "      <td>AI</td>\n",
       "      <td>Gender-Neutral</td>\n",
       "      <td>IIT-Bombay</td>\n",
       "      <td>Aerospace Engineering</td>\n",
       "      <td>4 Years</td>\n",
       "      <td>B.Tech</td>\n",
       "      <td>ST</td>\n",
       "      <td>79</td>\n",
       "      <td>145</td>\n",
       "      <td>0</td>\n",
       "    </tr>\n",
       "    <tr>\n",
       "      <th>4</th>\n",
       "      <td>2016</td>\n",
       "      <td>IIT</td>\n",
       "      <td>6</td>\n",
       "      <td>AI</td>\n",
       "      <td>Gender-Neutral</td>\n",
       "      <td>IIT-Bombay</td>\n",
       "      <td>Aerospace Engineering</td>\n",
       "      <td>4 Years</td>\n",
       "      <td>B.Tech</td>\n",
       "      <td>GEN-PWD</td>\n",
       "      <td>94</td>\n",
       "      <td>94</td>\n",
       "      <td>0</td>\n",
       "    </tr>\n",
       "  </tbody>\n",
       "</table>\n",
       "</div>"
      ],
      "text/plain": [
       "   year institute_type  round_no quota            pool institute_short  \\\n",
       "0  2016            IIT         6    AI  Gender-Neutral      IIT-Bombay   \n",
       "1  2016            IIT         6    AI  Gender-Neutral      IIT-Bombay   \n",
       "2  2016            IIT         6    AI  Gender-Neutral      IIT-Bombay   \n",
       "3  2016            IIT         6    AI  Gender-Neutral      IIT-Bombay   \n",
       "4  2016            IIT         6    AI  Gender-Neutral      IIT-Bombay   \n",
       "\n",
       "            program_name program_duration degree_short category  opening_rank  \\\n",
       "0  Aerospace Engineering          4 Years       B.Tech      GEN           838   \n",
       "1  Aerospace Engineering          4 Years       B.Tech  OBC-NCL           408   \n",
       "2  Aerospace Engineering          4 Years       B.Tech       SC           297   \n",
       "3  Aerospace Engineering          4 Years       B.Tech       ST            79   \n",
       "4  Aerospace Engineering          4 Years       B.Tech  GEN-PWD            94   \n",
       "\n",
       "   closing_rank  is_preparatory  \n",
       "0          1841               0  \n",
       "1          1098               0  \n",
       "2           468               0  \n",
       "3           145               0  \n",
       "4            94               0  "
      ]
     },
     "execution_count": 37,
     "metadata": {},
     "output_type": "execute_result"
    }
   ],
   "source": [
    "Pred_College = df\n",
    "Pred_College.head()"
   ]
  },
  {
   "cell_type": "code",
   "execution_count": 38,
   "id": "752ca77e",
   "metadata": {
    "execution": {
     "iopub.execute_input": "2023-02-13T13:13:05.896816Z",
     "iopub.status.busy": "2023-02-13T13:13:05.895950Z",
     "iopub.status.idle": "2023-02-13T13:13:05.935889Z",
     "shell.execute_reply": "2023-02-13T13:13:05.934686Z"
    },
    "papermill": {
     "duration": 0.07452,
     "end_time": "2023-02-13T13:13:05.938630",
     "exception": false,
     "start_time": "2023-02-13T13:13:05.864110",
     "status": "completed"
    },
    "tags": []
   },
   "outputs": [
    {
     "data": {
      "text/plain": [
       "array([0, 1], dtype=int64)"
      ]
     },
     "execution_count": 38,
     "metadata": {},
     "output_type": "execute_result"
    }
   ],
   "source": [
    "# Changing Institute type\n",
    "\n",
    "Pred_College['institute_type'] = [0 if x == 'IIT' else 1 for x in Pred_College['institute_type']]\n",
    "Pred_College['institute_type'].unique()"
   ]
  },
  {
   "cell_type": "code",
   "execution_count": 39,
   "id": "0719723d",
   "metadata": {
    "execution": {
     "iopub.execute_input": "2023-02-13T13:13:05.999805Z",
     "iopub.status.busy": "2023-02-13T13:13:05.999394Z",
     "iopub.status.idle": "2023-02-13T13:13:06.161138Z",
     "shell.execute_reply": "2023-02-13T13:13:06.160002Z"
    },
    "papermill": {
     "duration": 0.196045,
     "end_time": "2023-02-13T13:13:06.164044",
     "exception": false,
     "start_time": "2023-02-13T13:13:05.967999",
     "status": "completed"
    },
    "tags": []
   },
   "outputs": [],
   "source": [
    "# importing library for encoding\n",
    "\n",
    "from sklearn.preprocessing import LabelEncoder"
   ]
  },
  {
   "cell_type": "code",
   "execution_count": 40,
   "id": "f8cebda0",
   "metadata": {
    "execution": {
     "iopub.execute_input": "2023-02-13T13:13:06.227756Z",
     "iopub.status.busy": "2023-02-13T13:13:06.227335Z",
     "iopub.status.idle": "2023-02-13T13:13:06.391392Z",
     "shell.execute_reply": "2023-02-13T13:13:06.389995Z"
    },
    "papermill": {
     "duration": 0.199208,
     "end_time": "2023-02-13T13:13:06.394013",
     "exception": false,
     "start_time": "2023-02-13T13:13:06.194805",
     "status": "completed"
    },
    "tags": []
   },
   "outputs": [
    {
     "data": {
      "text/plain": [
       "array([0, 3, 6, 1, 2, 4, 5])"
      ]
     },
     "execution_count": 40,
     "metadata": {},
     "output_type": "execute_result"
    }
   ],
   "source": [
    "# Labeling the quota values\n",
    "\n",
    "le = LabelEncoder()\n",
    "Pred_College['quota'] = le.fit_transform(Pred_College['quota'])\n",
    "Pred_College['quota'].unique()"
   ]
  },
  {
   "cell_type": "code",
   "execution_count": 41,
   "id": "cf471350",
   "metadata": {
    "execution": {
     "iopub.execute_input": "2023-02-13T13:13:06.462118Z",
     "iopub.status.busy": "2023-02-13T13:13:06.460339Z",
     "iopub.status.idle": "2023-02-13T13:13:06.515814Z",
     "shell.execute_reply": "2023-02-13T13:13:06.514745Z"
    },
    "papermill": {
     "duration": 0.093724,
     "end_time": "2023-02-13T13:13:06.518703",
     "exception": false,
     "start_time": "2023-02-13T13:13:06.424979",
     "status": "completed"
    },
    "tags": []
   },
   "outputs": [
    {
     "data": {
      "text/plain": [
       "array([0, 1], dtype=int64)"
      ]
     },
     "execution_count": 41,
     "metadata": {},
     "output_type": "execute_result"
    }
   ],
   "source": [
    "# changing the pool values\n",
    "\n",
    "Pred_College['pool'] = [0 if x == 'Gender-Neutral' else 1 for x in Pred_College['pool']]\n",
    "Pred_College['pool'].unique()"
   ]
  },
  {
   "cell_type": "code",
   "execution_count": 42,
   "id": "ff018a0d",
   "metadata": {
    "execution": {
     "iopub.execute_input": "2023-02-13T13:13:06.599670Z",
     "iopub.status.busy": "2023-02-13T13:13:06.599199Z",
     "iopub.status.idle": "2023-02-13T13:13:06.626050Z",
     "shell.execute_reply": "2023-02-13T13:13:06.624944Z"
    },
    "papermill": {
     "duration": 0.064554,
     "end_time": "2023-02-13T13:13:06.628574",
     "exception": false,
     "start_time": "2023-02-13T13:13:06.564020",
     "status": "completed"
    },
    "tags": []
   },
   "outputs": [
    {
     "data": {
      "text/plain": [
       "array([0, 4, 6, 8, 3, 5, 7, 9, 1, 2])"
      ]
     },
     "execution_count": 42,
     "metadata": {},
     "output_type": "execute_result"
    }
   ],
   "source": [
    "# Labeling the categories\n",
    "\n",
    "Pred_College['category']= le.fit_transform(Pred_College['category'])\n",
    "Pred_College['category'].unique()"
   ]
  },
  {
   "cell_type": "code",
   "execution_count": 43,
   "id": "4938eea6",
   "metadata": {
    "execution": {
     "iopub.execute_input": "2023-02-13T13:13:06.691894Z",
     "iopub.status.busy": "2023-02-13T13:13:06.691482Z",
     "iopub.status.idle": "2023-02-13T13:13:06.704454Z",
     "shell.execute_reply": "2023-02-13T13:13:06.703262Z"
    },
    "papermill": {
     "duration": 0.04795,
     "end_time": "2023-02-13T13:13:06.707131",
     "exception": false,
     "start_time": "2023-02-13T13:13:06.659181",
     "status": "completed"
    },
    "tags": []
   },
   "outputs": [],
   "source": [
    "# Selecting the target data\n",
    "\n",
    "y = Pred_College[['institute_short', 'program_name', 'degree_short']]"
   ]
  },
  {
   "cell_type": "code",
   "execution_count": 44,
   "id": "1778da18",
   "metadata": {
    "execution": {
     "iopub.execute_input": "2023-02-13T13:13:06.772169Z",
     "iopub.status.busy": "2023-02-13T13:13:06.771758Z",
     "iopub.status.idle": "2023-02-13T13:13:06.779685Z",
     "shell.execute_reply": "2023-02-13T13:13:06.778220Z"
    },
    "papermill": {
     "duration": 0.04332,
     "end_time": "2023-02-13T13:13:06.782131",
     "exception": false,
     "start_time": "2023-02-13T13:13:06.738811",
     "status": "completed"
    },
    "tags": []
   },
   "outputs": [],
   "source": [
    "# Selecting the featured data\n",
    "\n",
    "X = Pred_College[['institute_type', 'round_no', 'quota', 'pool',\n",
    "       'category', 'opening_rank', 'closing_rank']]"
   ]
  },
  {
   "cell_type": "code",
   "execution_count": 45,
   "id": "bb5c6dc1",
   "metadata": {
    "execution": {
     "iopub.execute_input": "2023-02-13T13:13:06.906948Z",
     "iopub.status.busy": "2023-02-13T13:13:06.906249Z",
     "iopub.status.idle": "2023-02-13T13:13:06.979253Z",
     "shell.execute_reply": "2023-02-13T13:13:06.978386Z"
    },
    "papermill": {
     "duration": 0.107453,
     "end_time": "2023-02-13T13:13:06.982027",
     "exception": false,
     "start_time": "2023-02-13T13:13:06.874574",
     "status": "completed"
    },
    "tags": []
   },
   "outputs": [],
   "source": [
    "# Spilliting the data into training and testing dataset\n",
    "\n",
    "from sklearn.model_selection import train_test_split\n",
    "X_train, X_test, y_train, y_test = train_test_split(X, y, train_size = 0.8)"
   ]
  },
  {
   "cell_type": "code",
   "execution_count": 46,
   "id": "c3e6eaea",
   "metadata": {
    "execution": {
     "iopub.execute_input": "2023-02-13T13:13:07.047943Z",
     "iopub.status.busy": "2023-02-13T13:13:07.047517Z",
     "iopub.status.idle": "2023-02-13T13:13:07.055278Z",
     "shell.execute_reply": "2023-02-13T13:13:07.054255Z"
    },
    "papermill": {
     "duration": 0.043841,
     "end_time": "2023-02-13T13:13:07.058311",
     "exception": false,
     "start_time": "2023-02-13T13:13:07.014470",
     "status": "completed"
    },
    "tags": []
   },
   "outputs": [
    {
     "data": {
      "text/plain": [
       "array([[51966, 7],\n",
       "       [12992, 7],\n",
       "       [51966, 3],\n",
       "       [12992, 3]], dtype=object)"
      ]
     },
     "execution_count": 46,
     "metadata": {},
     "output_type": "execute_result"
    }
   ],
   "source": [
    "a = np.array([X_train.shape, X_test.shape, y_train.shape, y_test.shape], dtype = 'object')\n",
    "a"
   ]
  },
  {
   "cell_type": "code",
   "execution_count": 47,
   "id": "c2faef95",
   "metadata": {
    "execution": {
     "iopub.execute_input": "2023-02-13T13:13:07.182890Z",
     "iopub.status.busy": "2023-02-13T13:13:07.181812Z",
     "iopub.status.idle": "2023-02-13T13:13:07.393970Z",
     "shell.execute_reply": "2023-02-13T13:13:07.392913Z"
    },
    "papermill": {
     "duration": 0.246473,
     "end_time": "2023-02-13T13:13:07.396611",
     "exception": false,
     "start_time": "2023-02-13T13:13:07.150138",
     "status": "completed"
    },
    "tags": []
   },
   "outputs": [],
   "source": [
    "# Importing library for mdoel generation\n",
    "\n",
    "from sklearn.ensemble import RandomForestClassifier \n",
    "model = RandomForestClassifier()"
   ]
  },
  {
   "cell_type": "code",
   "execution_count": 48,
   "id": "266b229c",
   "metadata": {
    "execution": {
     "iopub.execute_input": "2023-02-13T13:13:07.458535Z",
     "iopub.status.busy": "2023-02-13T13:13:07.458105Z",
     "iopub.status.idle": "2023-02-13T13:13:41.042773Z",
     "shell.execute_reply": "2023-02-13T13:13:41.041468Z"
    },
    "papermill": {
     "duration": 33.649367,
     "end_time": "2023-02-13T13:13:41.076222",
     "exception": false,
     "start_time": "2023-02-13T13:13:07.426855",
     "status": "completed"
    },
    "tags": []
   },
   "outputs": [
    {
     "data": {
      "text/html": [
       "<style>#sk-container-id-1 {\n",
       "  /* Definition of color scheme common for light and dark mode */\n",
       "  --sklearn-color-text: black;\n",
       "  --sklearn-color-line: gray;\n",
       "  /* Definition of color scheme for unfitted estimators */\n",
       "  --sklearn-color-unfitted-level-0: #fff5e6;\n",
       "  --sklearn-color-unfitted-level-1: #f6e4d2;\n",
       "  --sklearn-color-unfitted-level-2: #ffe0b3;\n",
       "  --sklearn-color-unfitted-level-3: chocolate;\n",
       "  /* Definition of color scheme for fitted estimators */\n",
       "  --sklearn-color-fitted-level-0: #f0f8ff;\n",
       "  --sklearn-color-fitted-level-1: #d4ebff;\n",
       "  --sklearn-color-fitted-level-2: #b3dbfd;\n",
       "  --sklearn-color-fitted-level-3: cornflowerblue;\n",
       "\n",
       "  /* Specific color for light theme */\n",
       "  --sklearn-color-text-on-default-background: var(--sg-text-color, var(--theme-code-foreground, var(--jp-content-font-color1, black)));\n",
       "  --sklearn-color-background: var(--sg-background-color, var(--theme-background, var(--jp-layout-color0, white)));\n",
       "  --sklearn-color-border-box: var(--sg-text-color, var(--theme-code-foreground, var(--jp-content-font-color1, black)));\n",
       "  --sklearn-color-icon: #696969;\n",
       "\n",
       "  @media (prefers-color-scheme: dark) {\n",
       "    /* Redefinition of color scheme for dark theme */\n",
       "    --sklearn-color-text-on-default-background: var(--sg-text-color, var(--theme-code-foreground, var(--jp-content-font-color1, white)));\n",
       "    --sklearn-color-background: var(--sg-background-color, var(--theme-background, var(--jp-layout-color0, #111)));\n",
       "    --sklearn-color-border-box: var(--sg-text-color, var(--theme-code-foreground, var(--jp-content-font-color1, white)));\n",
       "    --sklearn-color-icon: #878787;\n",
       "  }\n",
       "}\n",
       "\n",
       "#sk-container-id-1 {\n",
       "  color: var(--sklearn-color-text);\n",
       "}\n",
       "\n",
       "#sk-container-id-1 pre {\n",
       "  padding: 0;\n",
       "}\n",
       "\n",
       "#sk-container-id-1 input.sk-hidden--visually {\n",
       "  border: 0;\n",
       "  clip: rect(1px 1px 1px 1px);\n",
       "  clip: rect(1px, 1px, 1px, 1px);\n",
       "  height: 1px;\n",
       "  margin: -1px;\n",
       "  overflow: hidden;\n",
       "  padding: 0;\n",
       "  position: absolute;\n",
       "  width: 1px;\n",
       "}\n",
       "\n",
       "#sk-container-id-1 div.sk-dashed-wrapped {\n",
       "  border: 1px dashed var(--sklearn-color-line);\n",
       "  margin: 0 0.4em 0.5em 0.4em;\n",
       "  box-sizing: border-box;\n",
       "  padding-bottom: 0.4em;\n",
       "  background-color: var(--sklearn-color-background);\n",
       "}\n",
       "\n",
       "#sk-container-id-1 div.sk-container {\n",
       "  /* jupyter's `normalize.less` sets `[hidden] { display: none; }`\n",
       "     but bootstrap.min.css set `[hidden] { display: none !important; }`\n",
       "     so we also need the `!important` here to be able to override the\n",
       "     default hidden behavior on the sphinx rendered scikit-learn.org.\n",
       "     See: https://github.com/scikit-learn/scikit-learn/issues/21755 */\n",
       "  display: inline-block !important;\n",
       "  position: relative;\n",
       "}\n",
       "\n",
       "#sk-container-id-1 div.sk-text-repr-fallback {\n",
       "  display: none;\n",
       "}\n",
       "\n",
       "div.sk-parallel-item,\n",
       "div.sk-serial,\n",
       "div.sk-item {\n",
       "  /* draw centered vertical line to link estimators */\n",
       "  background-image: linear-gradient(var(--sklearn-color-text-on-default-background), var(--sklearn-color-text-on-default-background));\n",
       "  background-size: 2px 100%;\n",
       "  background-repeat: no-repeat;\n",
       "  background-position: center center;\n",
       "}\n",
       "\n",
       "/* Parallel-specific style estimator block */\n",
       "\n",
       "#sk-container-id-1 div.sk-parallel-item::after {\n",
       "  content: \"\";\n",
       "  width: 100%;\n",
       "  border-bottom: 2px solid var(--sklearn-color-text-on-default-background);\n",
       "  flex-grow: 1;\n",
       "}\n",
       "\n",
       "#sk-container-id-1 div.sk-parallel {\n",
       "  display: flex;\n",
       "  align-items: stretch;\n",
       "  justify-content: center;\n",
       "  background-color: var(--sklearn-color-background);\n",
       "  position: relative;\n",
       "}\n",
       "\n",
       "#sk-container-id-1 div.sk-parallel-item {\n",
       "  display: flex;\n",
       "  flex-direction: column;\n",
       "}\n",
       "\n",
       "#sk-container-id-1 div.sk-parallel-item:first-child::after {\n",
       "  align-self: flex-end;\n",
       "  width: 50%;\n",
       "}\n",
       "\n",
       "#sk-container-id-1 div.sk-parallel-item:last-child::after {\n",
       "  align-self: flex-start;\n",
       "  width: 50%;\n",
       "}\n",
       "\n",
       "#sk-container-id-1 div.sk-parallel-item:only-child::after {\n",
       "  width: 0;\n",
       "}\n",
       "\n",
       "/* Serial-specific style estimator block */\n",
       "\n",
       "#sk-container-id-1 div.sk-serial {\n",
       "  display: flex;\n",
       "  flex-direction: column;\n",
       "  align-items: center;\n",
       "  background-color: var(--sklearn-color-background);\n",
       "  padding-right: 1em;\n",
       "  padding-left: 1em;\n",
       "}\n",
       "\n",
       "\n",
       "/* Toggleable style: style used for estimator/Pipeline/ColumnTransformer box that is\n",
       "clickable and can be expanded/collapsed.\n",
       "- Pipeline and ColumnTransformer use this feature and define the default style\n",
       "- Estimators will overwrite some part of the style using the `sk-estimator` class\n",
       "*/\n",
       "\n",
       "/* Pipeline and ColumnTransformer style (default) */\n",
       "\n",
       "#sk-container-id-1 div.sk-toggleable {\n",
       "  /* Default theme specific background. It is overwritten whether we have a\n",
       "  specific estimator or a Pipeline/ColumnTransformer */\n",
       "  background-color: var(--sklearn-color-background);\n",
       "}\n",
       "\n",
       "/* Toggleable label */\n",
       "#sk-container-id-1 label.sk-toggleable__label {\n",
       "  cursor: pointer;\n",
       "  display: block;\n",
       "  width: 100%;\n",
       "  margin-bottom: 0;\n",
       "  padding: 0.5em;\n",
       "  box-sizing: border-box;\n",
       "  text-align: center;\n",
       "}\n",
       "\n",
       "#sk-container-id-1 label.sk-toggleable__label-arrow:before {\n",
       "  /* Arrow on the left of the label */\n",
       "  content: \"▸\";\n",
       "  float: left;\n",
       "  margin-right: 0.25em;\n",
       "  color: var(--sklearn-color-icon);\n",
       "}\n",
       "\n",
       "#sk-container-id-1 label.sk-toggleable__label-arrow:hover:before {\n",
       "  color: var(--sklearn-color-text);\n",
       "}\n",
       "\n",
       "/* Toggleable content - dropdown */\n",
       "\n",
       "#sk-container-id-1 div.sk-toggleable__content {\n",
       "  max-height: 0;\n",
       "  max-width: 0;\n",
       "  overflow: hidden;\n",
       "  text-align: left;\n",
       "  /* unfitted */\n",
       "  background-color: var(--sklearn-color-unfitted-level-0);\n",
       "}\n",
       "\n",
       "#sk-container-id-1 div.sk-toggleable__content.fitted {\n",
       "  /* fitted */\n",
       "  background-color: var(--sklearn-color-fitted-level-0);\n",
       "}\n",
       "\n",
       "#sk-container-id-1 div.sk-toggleable__content pre {\n",
       "  margin: 0.2em;\n",
       "  border-radius: 0.25em;\n",
       "  color: var(--sklearn-color-text);\n",
       "  /* unfitted */\n",
       "  background-color: var(--sklearn-color-unfitted-level-0);\n",
       "}\n",
       "\n",
       "#sk-container-id-1 div.sk-toggleable__content.fitted pre {\n",
       "  /* unfitted */\n",
       "  background-color: var(--sklearn-color-fitted-level-0);\n",
       "}\n",
       "\n",
       "#sk-container-id-1 input.sk-toggleable__control:checked~div.sk-toggleable__content {\n",
       "  /* Expand drop-down */\n",
       "  max-height: 200px;\n",
       "  max-width: 100%;\n",
       "  overflow: auto;\n",
       "}\n",
       "\n",
       "#sk-container-id-1 input.sk-toggleable__control:checked~label.sk-toggleable__label-arrow:before {\n",
       "  content: \"▾\";\n",
       "}\n",
       "\n",
       "/* Pipeline/ColumnTransformer-specific style */\n",
       "\n",
       "#sk-container-id-1 div.sk-label input.sk-toggleable__control:checked~label.sk-toggleable__label {\n",
       "  color: var(--sklearn-color-text);\n",
       "  background-color: var(--sklearn-color-unfitted-level-2);\n",
       "}\n",
       "\n",
       "#sk-container-id-1 div.sk-label.fitted input.sk-toggleable__control:checked~label.sk-toggleable__label {\n",
       "  background-color: var(--sklearn-color-fitted-level-2);\n",
       "}\n",
       "\n",
       "/* Estimator-specific style */\n",
       "\n",
       "/* Colorize estimator box */\n",
       "#sk-container-id-1 div.sk-estimator input.sk-toggleable__control:checked~label.sk-toggleable__label {\n",
       "  /* unfitted */\n",
       "  background-color: var(--sklearn-color-unfitted-level-2);\n",
       "}\n",
       "\n",
       "#sk-container-id-1 div.sk-estimator.fitted input.sk-toggleable__control:checked~label.sk-toggleable__label {\n",
       "  /* fitted */\n",
       "  background-color: var(--sklearn-color-fitted-level-2);\n",
       "}\n",
       "\n",
       "#sk-container-id-1 div.sk-label label.sk-toggleable__label,\n",
       "#sk-container-id-1 div.sk-label label {\n",
       "  /* The background is the default theme color */\n",
       "  color: var(--sklearn-color-text-on-default-background);\n",
       "}\n",
       "\n",
       "/* On hover, darken the color of the background */\n",
       "#sk-container-id-1 div.sk-label:hover label.sk-toggleable__label {\n",
       "  color: var(--sklearn-color-text);\n",
       "  background-color: var(--sklearn-color-unfitted-level-2);\n",
       "}\n",
       "\n",
       "/* Label box, darken color on hover, fitted */\n",
       "#sk-container-id-1 div.sk-label.fitted:hover label.sk-toggleable__label.fitted {\n",
       "  color: var(--sklearn-color-text);\n",
       "  background-color: var(--sklearn-color-fitted-level-2);\n",
       "}\n",
       "\n",
       "/* Estimator label */\n",
       "\n",
       "#sk-container-id-1 div.sk-label label {\n",
       "  font-family: monospace;\n",
       "  font-weight: bold;\n",
       "  display: inline-block;\n",
       "  line-height: 1.2em;\n",
       "}\n",
       "\n",
       "#sk-container-id-1 div.sk-label-container {\n",
       "  text-align: center;\n",
       "}\n",
       "\n",
       "/* Estimator-specific */\n",
       "#sk-container-id-1 div.sk-estimator {\n",
       "  font-family: monospace;\n",
       "  border: 1px dotted var(--sklearn-color-border-box);\n",
       "  border-radius: 0.25em;\n",
       "  box-sizing: border-box;\n",
       "  margin-bottom: 0.5em;\n",
       "  /* unfitted */\n",
       "  background-color: var(--sklearn-color-unfitted-level-0);\n",
       "}\n",
       "\n",
       "#sk-container-id-1 div.sk-estimator.fitted {\n",
       "  /* fitted */\n",
       "  background-color: var(--sklearn-color-fitted-level-0);\n",
       "}\n",
       "\n",
       "/* on hover */\n",
       "#sk-container-id-1 div.sk-estimator:hover {\n",
       "  /* unfitted */\n",
       "  background-color: var(--sklearn-color-unfitted-level-2);\n",
       "}\n",
       "\n",
       "#sk-container-id-1 div.sk-estimator.fitted:hover {\n",
       "  /* fitted */\n",
       "  background-color: var(--sklearn-color-fitted-level-2);\n",
       "}\n",
       "\n",
       "/* Specification for estimator info (e.g. \"i\" and \"?\") */\n",
       "\n",
       "/* Common style for \"i\" and \"?\" */\n",
       "\n",
       ".sk-estimator-doc-link,\n",
       "a:link.sk-estimator-doc-link,\n",
       "a:visited.sk-estimator-doc-link {\n",
       "  float: right;\n",
       "  font-size: smaller;\n",
       "  line-height: 1em;\n",
       "  font-family: monospace;\n",
       "  background-color: var(--sklearn-color-background);\n",
       "  border-radius: 1em;\n",
       "  height: 1em;\n",
       "  width: 1em;\n",
       "  text-decoration: none !important;\n",
       "  margin-left: 1ex;\n",
       "  /* unfitted */\n",
       "  border: var(--sklearn-color-unfitted-level-1) 1pt solid;\n",
       "  color: var(--sklearn-color-unfitted-level-1);\n",
       "}\n",
       "\n",
       ".sk-estimator-doc-link.fitted,\n",
       "a:link.sk-estimator-doc-link.fitted,\n",
       "a:visited.sk-estimator-doc-link.fitted {\n",
       "  /* fitted */\n",
       "  border: var(--sklearn-color-fitted-level-1) 1pt solid;\n",
       "  color: var(--sklearn-color-fitted-level-1);\n",
       "}\n",
       "\n",
       "/* On hover */\n",
       "div.sk-estimator:hover .sk-estimator-doc-link:hover,\n",
       ".sk-estimator-doc-link:hover,\n",
       "div.sk-label-container:hover .sk-estimator-doc-link:hover,\n",
       ".sk-estimator-doc-link:hover {\n",
       "  /* unfitted */\n",
       "  background-color: var(--sklearn-color-unfitted-level-3);\n",
       "  color: var(--sklearn-color-background);\n",
       "  text-decoration: none;\n",
       "}\n",
       "\n",
       "div.sk-estimator.fitted:hover .sk-estimator-doc-link.fitted:hover,\n",
       ".sk-estimator-doc-link.fitted:hover,\n",
       "div.sk-label-container:hover .sk-estimator-doc-link.fitted:hover,\n",
       ".sk-estimator-doc-link.fitted:hover {\n",
       "  /* fitted */\n",
       "  background-color: var(--sklearn-color-fitted-level-3);\n",
       "  color: var(--sklearn-color-background);\n",
       "  text-decoration: none;\n",
       "}\n",
       "\n",
       "/* Span, style for the box shown on hovering the info icon */\n",
       ".sk-estimator-doc-link span {\n",
       "  display: none;\n",
       "  z-index: 9999;\n",
       "  position: relative;\n",
       "  font-weight: normal;\n",
       "  right: .2ex;\n",
       "  padding: .5ex;\n",
       "  margin: .5ex;\n",
       "  width: min-content;\n",
       "  min-width: 20ex;\n",
       "  max-width: 50ex;\n",
       "  color: var(--sklearn-color-text);\n",
       "  box-shadow: 2pt 2pt 4pt #999;\n",
       "  /* unfitted */\n",
       "  background: var(--sklearn-color-unfitted-level-0);\n",
       "  border: .5pt solid var(--sklearn-color-unfitted-level-3);\n",
       "}\n",
       "\n",
       ".sk-estimator-doc-link.fitted span {\n",
       "  /* fitted */\n",
       "  background: var(--sklearn-color-fitted-level-0);\n",
       "  border: var(--sklearn-color-fitted-level-3);\n",
       "}\n",
       "\n",
       ".sk-estimator-doc-link:hover span {\n",
       "  display: block;\n",
       "}\n",
       "\n",
       "/* \"?\"-specific style due to the `<a>` HTML tag */\n",
       "\n",
       "#sk-container-id-1 a.estimator_doc_link {\n",
       "  float: right;\n",
       "  font-size: 1rem;\n",
       "  line-height: 1em;\n",
       "  font-family: monospace;\n",
       "  background-color: var(--sklearn-color-background);\n",
       "  border-radius: 1rem;\n",
       "  height: 1rem;\n",
       "  width: 1rem;\n",
       "  text-decoration: none;\n",
       "  /* unfitted */\n",
       "  color: var(--sklearn-color-unfitted-level-1);\n",
       "  border: var(--sklearn-color-unfitted-level-1) 1pt solid;\n",
       "}\n",
       "\n",
       "#sk-container-id-1 a.estimator_doc_link.fitted {\n",
       "  /* fitted */\n",
       "  border: var(--sklearn-color-fitted-level-1) 1pt solid;\n",
       "  color: var(--sklearn-color-fitted-level-1);\n",
       "}\n",
       "\n",
       "/* On hover */\n",
       "#sk-container-id-1 a.estimator_doc_link:hover {\n",
       "  /* unfitted */\n",
       "  background-color: var(--sklearn-color-unfitted-level-3);\n",
       "  color: var(--sklearn-color-background);\n",
       "  text-decoration: none;\n",
       "}\n",
       "\n",
       "#sk-container-id-1 a.estimator_doc_link.fitted:hover {\n",
       "  /* fitted */\n",
       "  background-color: var(--sklearn-color-fitted-level-3);\n",
       "}\n",
       "</style><div id=\"sk-container-id-1\" class=\"sk-top-container\"><div class=\"sk-text-repr-fallback\"><pre>RandomForestClassifier()</pre><b>In a Jupyter environment, please rerun this cell to show the HTML representation or trust the notebook. <br />On GitHub, the HTML representation is unable to render, please try loading this page with nbviewer.org.</b></div><div class=\"sk-container\" hidden><div class=\"sk-item\"><div class=\"sk-estimator fitted sk-toggleable\"><input class=\"sk-toggleable__control sk-hidden--visually\" id=\"sk-estimator-id-1\" type=\"checkbox\" checked><label for=\"sk-estimator-id-1\" class=\"sk-toggleable__label fitted sk-toggleable__label-arrow fitted\">&nbsp;&nbsp;RandomForestClassifier<a class=\"sk-estimator-doc-link fitted\" rel=\"noreferrer\" target=\"_blank\" href=\"https://scikit-learn.org/1.4/modules/generated/sklearn.ensemble.RandomForestClassifier.html\">?<span>Documentation for RandomForestClassifier</span></a><span class=\"sk-estimator-doc-link fitted\">i<span>Fitted</span></span></label><div class=\"sk-toggleable__content fitted\"><pre>RandomForestClassifier()</pre></div> </div></div></div></div>"
      ],
      "text/plain": [
       "RandomForestClassifier()"
      ]
     },
     "execution_count": 48,
     "metadata": {},
     "output_type": "execute_result"
    }
   ],
   "source": [
    "model.fit(X_train, y_train)"
   ]
  },
  {
   "cell_type": "code",
   "execution_count": 49,
   "id": "839ba3de",
   "metadata": {
    "execution": {
     "iopub.execute_input": "2023-02-13T13:13:41.141413Z",
     "iopub.status.busy": "2023-02-13T13:13:41.140010Z",
     "iopub.status.idle": "2023-02-13T13:13:46.573726Z",
     "shell.execute_reply": "2023-02-13T13:13:46.572775Z"
    },
    "papermill": {
     "duration": 5.468262,
     "end_time": "2023-02-13T13:13:46.575849",
     "exception": false,
     "start_time": "2023-02-13T13:13:41.107587",
     "status": "completed"
    },
    "tags": []
   },
   "outputs": [
    {
     "data": {
      "text/plain": [
       "array([['NIT-Hamirpur', 'Chemical Engineering', 'B.Tech'],\n",
       "       ['NIT-Hamirpur', 'Chemical Engineering', 'B.Tech'],\n",
       "       ['IIT-Kanpur', 'Computer Science and Engineering', 'B.Tech'],\n",
       "       ...,\n",
       "       ['NIT-Jaipur', 'Metallurgical and Materials Engineering',\n",
       "        'B.Tech'],\n",
       "       ['NIT-Jalandhar', 'Computer Science and Engineering', 'B.Tech'],\n",
       "       ['NIT-Silchar', 'Civil Engineering', 'B.Tech']], dtype=object)"
      ]
     },
     "execution_count": 49,
     "metadata": {},
     "output_type": "execute_result"
    }
   ],
   "source": [
    "# predicting the dataset\n",
    "\n",
    "y_pred = model.predict(X_test)\n",
    "y_pred"
   ]
  },
  {
   "cell_type": "code",
   "execution_count": 50,
   "id": "44934543",
   "metadata": {
    "execution": {
     "iopub.execute_input": "2023-02-13T13:13:46.641807Z",
     "iopub.status.busy": "2023-02-13T13:13:46.640971Z",
     "iopub.status.idle": "2023-02-13T13:13:46.671918Z",
     "shell.execute_reply": "2023-02-13T13:13:46.670658Z"
    },
    "papermill": {
     "duration": 0.066261,
     "end_time": "2023-02-13T13:13:46.674368",
     "exception": false,
     "start_time": "2023-02-13T13:13:46.608107",
     "status": "completed"
    },
    "tags": []
   },
   "outputs": [
    {
     "data": {
      "text/html": [
       "<div>\n",
       "<style scoped>\n",
       "    .dataframe tbody tr th:only-of-type {\n",
       "        vertical-align: middle;\n",
       "    }\n",
       "\n",
       "    .dataframe tbody tr th {\n",
       "        vertical-align: top;\n",
       "    }\n",
       "\n",
       "    .dataframe thead tr th {\n",
       "        text-align: left;\n",
       "    }\n",
       "</style>\n",
       "<table border=\"1\" class=\"dataframe\">\n",
       "  <thead>\n",
       "    <tr>\n",
       "      <th></th>\n",
       "      <th>College</th>\n",
       "      <th>Branch</th>\n",
       "      <th>Degree</th>\n",
       "    </tr>\n",
       "  </thead>\n",
       "  <tbody>\n",
       "    <tr>\n",
       "      <th>0</th>\n",
       "      <td>IIT-Bombay</td>\n",
       "      <td>Aerospace Engineering</td>\n",
       "      <td>B.Tech</td>\n",
       "    </tr>\n",
       "    <tr>\n",
       "      <th>1</th>\n",
       "      <td>NIT-Warangal</td>\n",
       "      <td>Computer Science and Engineering</td>\n",
       "      <td>B.Tech</td>\n",
       "    </tr>\n",
       "  </tbody>\n",
       "</table>\n",
       "</div>"
      ],
      "text/plain": [
       "        College                            Branch  Degree\n",
       "0    IIT-Bombay             Aerospace Engineering  B.Tech\n",
       "1  NIT-Warangal  Computer Science and Engineering  B.Tech"
      ]
     },
     "execution_count": 50,
     "metadata": {},
     "output_type": "execute_result"
    }
   ],
   "source": [
    "# prediction\n",
    "\n",
    "Prediction = pd.DataFrame(model.predict([[0, 6, 0, 0, 0, 838, 1841], [1, 6, 0, 0, 0, 1000, 1841]]), columns = [['College', 'Branch', 'Degree']])\n",
    "Prediction"
   ]
  },
  {
   "cell_type": "markdown",
   "id": "46eabeb1",
   "metadata": {
    "papermill": {
     "duration": 0.030765,
     "end_time": "2023-02-13T13:13:46.735816",
     "exception": false,
     "start_time": "2023-02-13T13:13:46.705051",
     "status": "completed"
    },
    "tags": []
   },
   "source": [
    "***"
   ]
  },
  {
   "cell_type": "code",
   "execution_count": 51,
   "id": "8b1589cd",
   "metadata": {
    "execution": {
     "iopub.execute_input": "2023-02-13T13:13:46.858530Z",
     "iopub.status.busy": "2023-02-13T13:13:46.858057Z",
     "iopub.status.idle": "2023-02-13T13:13:46.884294Z",
     "shell.execute_reply": "2023-02-13T13:13:46.883208Z"
    },
    "papermill": {
     "duration": 0.060451,
     "end_time": "2023-02-13T13:13:46.886699",
     "exception": false,
     "start_time": "2023-02-13T13:13:46.826248",
     "status": "completed"
    },
    "tags": []
   },
   "outputs": [
    {
     "data": {
      "text/plain": [
       "array([ 4,  5, 15, 14, 16, 20,  9, 11, 10,  0, 19,  1,  3, 17,  7, 21, 13,\n",
       "       22,  2,  6,  8, 12, 18, 53, 51, 52, 50, 42, 25, 34, 33, 27, 24, 28,\n",
       "       23, 29, 30, 31, 32, 39, 36, 43, 41, 44, 45, 47, 26, 35, 37, 38, 40,\n",
       "       46, 48, 49])"
      ]
     },
     "execution_count": 51,
     "metadata": {},
     "output_type": "execute_result"
    }
   ],
   "source": [
    "# Labeling the Institute values\n",
    "\n",
    "Pred_College['institute_short']= le.fit_transform(Pred_College['institute_short'])\n",
    "Pred_College['institute_short'].unique()"
   ]
  },
  {
   "cell_type": "code",
   "execution_count": 52,
   "id": "6f4c4d5d",
   "metadata": {
    "execution": {
     "iopub.execute_input": "2023-02-13T13:13:46.950164Z",
     "iopub.status.busy": "2023-02-13T13:13:46.949084Z",
     "iopub.status.idle": "2023-02-13T13:13:46.975765Z",
     "shell.execute_reply": "2023-02-13T13:13:46.974826Z"
    },
    "papermill": {
     "duration": 0.060951,
     "end_time": "2023-02-13T13:13:46.977957",
     "exception": false,
     "start_time": "2023-02-13T13:13:46.917006",
     "status": "completed"
    },
    "tags": []
   },
   "outputs": [
    {
     "data": {
      "text/plain": [
       "array([  0,  28,  31,  32,  42,  47,  51,  52,  64,  66,  67,  98, 101,\n",
       "       107, 108, 109,  14,  24,  48,  95, 126, 129,   1,   2,   4,   7,\n",
       "        37,  46,  54,  58,  59,  72,  79,  80,  83,  86, 114,  87, 104,\n",
       "       110, 116, 118, 122, 127,  20,  45,  90,  97,  18,  19,  65, 117,\n",
       "         6,  13,  57,  74,  75, 124,  29,  61,  68,  91,  15,  17,  26,\n",
       "        36,  53,  56,  76,  92, 105, 121,   5,  62,  70, 112, 115, 119,\n",
       "        33,  34,  99, 100, 120,  35,  49, 103, 111,  10,  71, 102, 106,\n",
       "         3,  60,  81,  88,   8,  16,  44,  11,  55,  50,  69,  89,  21,\n",
       "         9,  38, 113,  22,  43,  63, 128,  30,  94,  25,  39,  84, 125,\n",
       "        41,  93,  82,  78, 123,  23,  12,  77,  73,  27,  85,  96,  40])"
      ]
     },
     "execution_count": 52,
     "metadata": {},
     "output_type": "execute_result"
    }
   ],
   "source": [
    "# Labeling the Program Name values\n",
    "\n",
    "Pred_College['program_name']= le.fit_transform(Pred_College['program_name'])\n",
    "Pred_College['program_name'].unique()"
   ]
  },
  {
   "cell_type": "code",
   "execution_count": 53,
   "id": "e7cbf99d",
   "metadata": {
    "execution": {
     "iopub.execute_input": "2023-02-13T13:13:47.043535Z",
     "iopub.status.busy": "2023-02-13T13:13:47.042844Z",
     "iopub.status.idle": "2023-02-13T13:13:47.066842Z",
     "shell.execute_reply": "2023-02-13T13:13:47.065760Z"
    },
    "papermill": {
     "duration": 0.058952,
     "end_time": "2023-02-13T13:13:47.069096",
     "exception": false,
     "start_time": "2023-02-13T13:13:47.010144",
     "status": "completed"
    },
    "tags": []
   },
   "outputs": [
    {
     "data": {
      "text/plain": [
       "array([ 4,  7,  5, 11,  0, 10,  1,  2,  6,  3,  9,  8])"
      ]
     },
     "execution_count": 53,
     "metadata": {},
     "output_type": "execute_result"
    }
   ],
   "source": [
    "# Labeling the Degree values\n",
    "\n",
    "Pred_College['degree_short']= le.fit_transform(Pred_College['degree_short'])\n",
    "Pred_College['degree_short'].unique()"
   ]
  },
  {
   "cell_type": "code",
   "execution_count": 54,
   "id": "76e17ea8",
   "metadata": {
    "execution": {
     "iopub.execute_input": "2023-02-13T13:13:47.194735Z",
     "iopub.status.busy": "2023-02-13T13:13:47.193625Z",
     "iopub.status.idle": "2023-02-13T13:13:47.203931Z",
     "shell.execute_reply": "2023-02-13T13:13:47.202750Z"
    },
    "papermill": {
     "duration": 0.044544,
     "end_time": "2023-02-13T13:13:47.206215",
     "exception": false,
     "start_time": "2023-02-13T13:13:47.161671",
     "status": "completed"
    },
    "tags": []
   },
   "outputs": [],
   "source": [
    "# Target data\n",
    "\n",
    "y = Pred_College[['institute_short', 'program_name', 'degree_short']]"
   ]
  },
  {
   "cell_type": "code",
   "execution_count": 55,
   "id": "488f6433",
   "metadata": {
    "execution": {
     "iopub.execute_input": "2023-02-13T13:13:47.269926Z",
     "iopub.status.busy": "2023-02-13T13:13:47.269278Z",
     "iopub.status.idle": "2023-02-13T13:13:47.275521Z",
     "shell.execute_reply": "2023-02-13T13:13:47.274729Z"
    },
    "papermill": {
     "duration": 0.040576,
     "end_time": "2023-02-13T13:13:47.277498",
     "exception": false,
     "start_time": "2023-02-13T13:13:47.236922",
     "status": "completed"
    },
    "tags": []
   },
   "outputs": [],
   "source": [
    "# Featured data\n",
    "\n",
    "X = Pred_College[['institute_type', 'round_no', 'quota', 'pool',\n",
    "       'category', 'opening_rank', 'closing_rank']]"
   ]
  },
  {
   "cell_type": "code",
   "execution_count": 56,
   "id": "d2c36a42",
   "metadata": {
    "execution": {
     "iopub.execute_input": "2023-02-13T13:13:47.340764Z",
     "iopub.status.busy": "2023-02-13T13:13:47.340053Z",
     "iopub.status.idle": "2023-02-13T13:13:47.356181Z",
     "shell.execute_reply": "2023-02-13T13:13:47.354808Z"
    },
    "papermill": {
     "duration": 0.050671,
     "end_time": "2023-02-13T13:13:47.358889",
     "exception": false,
     "start_time": "2023-02-13T13:13:47.308218",
     "status": "completed"
    },
    "tags": []
   },
   "outputs": [],
   "source": [
    "# spilitting the training and testing data\n",
    "\n",
    "X_train, X_test, y_train, y_test = train_test_split(X, y, train_size = 0.8)"
   ]
  },
  {
   "cell_type": "code",
   "execution_count": 57,
   "id": "90e6da73",
   "metadata": {
    "execution": {
     "iopub.execute_input": "2023-02-13T13:13:47.421799Z",
     "iopub.status.busy": "2023-02-13T13:13:47.421378Z",
     "iopub.status.idle": "2023-02-13T13:13:47.426141Z",
     "shell.execute_reply": "2023-02-13T13:13:47.425079Z"
    },
    "papermill": {
     "duration": 0.038834,
     "end_time": "2023-02-13T13:13:47.428323",
     "exception": false,
     "start_time": "2023-02-13T13:13:47.389489",
     "status": "completed"
    },
    "tags": []
   },
   "outputs": [],
   "source": [
    "# Regenerating the model once again\n",
    "\n",
    "model = RandomForestClassifier()"
   ]
  },
  {
   "cell_type": "code",
   "execution_count": 58,
   "id": "b93a08a2",
   "metadata": {
    "execution": {
     "iopub.execute_input": "2023-02-13T13:13:47.492145Z",
     "iopub.status.busy": "2023-02-13T13:13:47.491388Z",
     "iopub.status.idle": "2023-02-13T13:14:20.875930Z",
     "shell.execute_reply": "2023-02-13T13:14:20.874223Z"
    },
    "papermill": {
     "duration": 33.450399,
     "end_time": "2023-02-13T13:14:20.909592",
     "exception": false,
     "start_time": "2023-02-13T13:13:47.459193",
     "status": "completed"
    },
    "tags": []
   },
   "outputs": [
    {
     "data": {
      "text/html": [
       "<style>#sk-container-id-2 {\n",
       "  /* Definition of color scheme common for light and dark mode */\n",
       "  --sklearn-color-text: black;\n",
       "  --sklearn-color-line: gray;\n",
       "  /* Definition of color scheme for unfitted estimators */\n",
       "  --sklearn-color-unfitted-level-0: #fff5e6;\n",
       "  --sklearn-color-unfitted-level-1: #f6e4d2;\n",
       "  --sklearn-color-unfitted-level-2: #ffe0b3;\n",
       "  --sklearn-color-unfitted-level-3: chocolate;\n",
       "  /* Definition of color scheme for fitted estimators */\n",
       "  --sklearn-color-fitted-level-0: #f0f8ff;\n",
       "  --sklearn-color-fitted-level-1: #d4ebff;\n",
       "  --sklearn-color-fitted-level-2: #b3dbfd;\n",
       "  --sklearn-color-fitted-level-3: cornflowerblue;\n",
       "\n",
       "  /* Specific color for light theme */\n",
       "  --sklearn-color-text-on-default-background: var(--sg-text-color, var(--theme-code-foreground, var(--jp-content-font-color1, black)));\n",
       "  --sklearn-color-background: var(--sg-background-color, var(--theme-background, var(--jp-layout-color0, white)));\n",
       "  --sklearn-color-border-box: var(--sg-text-color, var(--theme-code-foreground, var(--jp-content-font-color1, black)));\n",
       "  --sklearn-color-icon: #696969;\n",
       "\n",
       "  @media (prefers-color-scheme: dark) {\n",
       "    /* Redefinition of color scheme for dark theme */\n",
       "    --sklearn-color-text-on-default-background: var(--sg-text-color, var(--theme-code-foreground, var(--jp-content-font-color1, white)));\n",
       "    --sklearn-color-background: var(--sg-background-color, var(--theme-background, var(--jp-layout-color0, #111)));\n",
       "    --sklearn-color-border-box: var(--sg-text-color, var(--theme-code-foreground, var(--jp-content-font-color1, white)));\n",
       "    --sklearn-color-icon: #878787;\n",
       "  }\n",
       "}\n",
       "\n",
       "#sk-container-id-2 {\n",
       "  color: var(--sklearn-color-text);\n",
       "}\n",
       "\n",
       "#sk-container-id-2 pre {\n",
       "  padding: 0;\n",
       "}\n",
       "\n",
       "#sk-container-id-2 input.sk-hidden--visually {\n",
       "  border: 0;\n",
       "  clip: rect(1px 1px 1px 1px);\n",
       "  clip: rect(1px, 1px, 1px, 1px);\n",
       "  height: 1px;\n",
       "  margin: -1px;\n",
       "  overflow: hidden;\n",
       "  padding: 0;\n",
       "  position: absolute;\n",
       "  width: 1px;\n",
       "}\n",
       "\n",
       "#sk-container-id-2 div.sk-dashed-wrapped {\n",
       "  border: 1px dashed var(--sklearn-color-line);\n",
       "  margin: 0 0.4em 0.5em 0.4em;\n",
       "  box-sizing: border-box;\n",
       "  padding-bottom: 0.4em;\n",
       "  background-color: var(--sklearn-color-background);\n",
       "}\n",
       "\n",
       "#sk-container-id-2 div.sk-container {\n",
       "  /* jupyter's `normalize.less` sets `[hidden] { display: none; }`\n",
       "     but bootstrap.min.css set `[hidden] { display: none !important; }`\n",
       "     so we also need the `!important` here to be able to override the\n",
       "     default hidden behavior on the sphinx rendered scikit-learn.org.\n",
       "     See: https://github.com/scikit-learn/scikit-learn/issues/21755 */\n",
       "  display: inline-block !important;\n",
       "  position: relative;\n",
       "}\n",
       "\n",
       "#sk-container-id-2 div.sk-text-repr-fallback {\n",
       "  display: none;\n",
       "}\n",
       "\n",
       "div.sk-parallel-item,\n",
       "div.sk-serial,\n",
       "div.sk-item {\n",
       "  /* draw centered vertical line to link estimators */\n",
       "  background-image: linear-gradient(var(--sklearn-color-text-on-default-background), var(--sklearn-color-text-on-default-background));\n",
       "  background-size: 2px 100%;\n",
       "  background-repeat: no-repeat;\n",
       "  background-position: center center;\n",
       "}\n",
       "\n",
       "/* Parallel-specific style estimator block */\n",
       "\n",
       "#sk-container-id-2 div.sk-parallel-item::after {\n",
       "  content: \"\";\n",
       "  width: 100%;\n",
       "  border-bottom: 2px solid var(--sklearn-color-text-on-default-background);\n",
       "  flex-grow: 1;\n",
       "}\n",
       "\n",
       "#sk-container-id-2 div.sk-parallel {\n",
       "  display: flex;\n",
       "  align-items: stretch;\n",
       "  justify-content: center;\n",
       "  background-color: var(--sklearn-color-background);\n",
       "  position: relative;\n",
       "}\n",
       "\n",
       "#sk-container-id-2 div.sk-parallel-item {\n",
       "  display: flex;\n",
       "  flex-direction: column;\n",
       "}\n",
       "\n",
       "#sk-container-id-2 div.sk-parallel-item:first-child::after {\n",
       "  align-self: flex-end;\n",
       "  width: 50%;\n",
       "}\n",
       "\n",
       "#sk-container-id-2 div.sk-parallel-item:last-child::after {\n",
       "  align-self: flex-start;\n",
       "  width: 50%;\n",
       "}\n",
       "\n",
       "#sk-container-id-2 div.sk-parallel-item:only-child::after {\n",
       "  width: 0;\n",
       "}\n",
       "\n",
       "/* Serial-specific style estimator block */\n",
       "\n",
       "#sk-container-id-2 div.sk-serial {\n",
       "  display: flex;\n",
       "  flex-direction: column;\n",
       "  align-items: center;\n",
       "  background-color: var(--sklearn-color-background);\n",
       "  padding-right: 1em;\n",
       "  padding-left: 1em;\n",
       "}\n",
       "\n",
       "\n",
       "/* Toggleable style: style used for estimator/Pipeline/ColumnTransformer box that is\n",
       "clickable and can be expanded/collapsed.\n",
       "- Pipeline and ColumnTransformer use this feature and define the default style\n",
       "- Estimators will overwrite some part of the style using the `sk-estimator` class\n",
       "*/\n",
       "\n",
       "/* Pipeline and ColumnTransformer style (default) */\n",
       "\n",
       "#sk-container-id-2 div.sk-toggleable {\n",
       "  /* Default theme specific background. It is overwritten whether we have a\n",
       "  specific estimator or a Pipeline/ColumnTransformer */\n",
       "  background-color: var(--sklearn-color-background);\n",
       "}\n",
       "\n",
       "/* Toggleable label */\n",
       "#sk-container-id-2 label.sk-toggleable__label {\n",
       "  cursor: pointer;\n",
       "  display: block;\n",
       "  width: 100%;\n",
       "  margin-bottom: 0;\n",
       "  padding: 0.5em;\n",
       "  box-sizing: border-box;\n",
       "  text-align: center;\n",
       "}\n",
       "\n",
       "#sk-container-id-2 label.sk-toggleable__label-arrow:before {\n",
       "  /* Arrow on the left of the label */\n",
       "  content: \"▸\";\n",
       "  float: left;\n",
       "  margin-right: 0.25em;\n",
       "  color: var(--sklearn-color-icon);\n",
       "}\n",
       "\n",
       "#sk-container-id-2 label.sk-toggleable__label-arrow:hover:before {\n",
       "  color: var(--sklearn-color-text);\n",
       "}\n",
       "\n",
       "/* Toggleable content - dropdown */\n",
       "\n",
       "#sk-container-id-2 div.sk-toggleable__content {\n",
       "  max-height: 0;\n",
       "  max-width: 0;\n",
       "  overflow: hidden;\n",
       "  text-align: left;\n",
       "  /* unfitted */\n",
       "  background-color: var(--sklearn-color-unfitted-level-0);\n",
       "}\n",
       "\n",
       "#sk-container-id-2 div.sk-toggleable__content.fitted {\n",
       "  /* fitted */\n",
       "  background-color: var(--sklearn-color-fitted-level-0);\n",
       "}\n",
       "\n",
       "#sk-container-id-2 div.sk-toggleable__content pre {\n",
       "  margin: 0.2em;\n",
       "  border-radius: 0.25em;\n",
       "  color: var(--sklearn-color-text);\n",
       "  /* unfitted */\n",
       "  background-color: var(--sklearn-color-unfitted-level-0);\n",
       "}\n",
       "\n",
       "#sk-container-id-2 div.sk-toggleable__content.fitted pre {\n",
       "  /* unfitted */\n",
       "  background-color: var(--sklearn-color-fitted-level-0);\n",
       "}\n",
       "\n",
       "#sk-container-id-2 input.sk-toggleable__control:checked~div.sk-toggleable__content {\n",
       "  /* Expand drop-down */\n",
       "  max-height: 200px;\n",
       "  max-width: 100%;\n",
       "  overflow: auto;\n",
       "}\n",
       "\n",
       "#sk-container-id-2 input.sk-toggleable__control:checked~label.sk-toggleable__label-arrow:before {\n",
       "  content: \"▾\";\n",
       "}\n",
       "\n",
       "/* Pipeline/ColumnTransformer-specific style */\n",
       "\n",
       "#sk-container-id-2 div.sk-label input.sk-toggleable__control:checked~label.sk-toggleable__label {\n",
       "  color: var(--sklearn-color-text);\n",
       "  background-color: var(--sklearn-color-unfitted-level-2);\n",
       "}\n",
       "\n",
       "#sk-container-id-2 div.sk-label.fitted input.sk-toggleable__control:checked~label.sk-toggleable__label {\n",
       "  background-color: var(--sklearn-color-fitted-level-2);\n",
       "}\n",
       "\n",
       "/* Estimator-specific style */\n",
       "\n",
       "/* Colorize estimator box */\n",
       "#sk-container-id-2 div.sk-estimator input.sk-toggleable__control:checked~label.sk-toggleable__label {\n",
       "  /* unfitted */\n",
       "  background-color: var(--sklearn-color-unfitted-level-2);\n",
       "}\n",
       "\n",
       "#sk-container-id-2 div.sk-estimator.fitted input.sk-toggleable__control:checked~label.sk-toggleable__label {\n",
       "  /* fitted */\n",
       "  background-color: var(--sklearn-color-fitted-level-2);\n",
       "}\n",
       "\n",
       "#sk-container-id-2 div.sk-label label.sk-toggleable__label,\n",
       "#sk-container-id-2 div.sk-label label {\n",
       "  /* The background is the default theme color */\n",
       "  color: var(--sklearn-color-text-on-default-background);\n",
       "}\n",
       "\n",
       "/* On hover, darken the color of the background */\n",
       "#sk-container-id-2 div.sk-label:hover label.sk-toggleable__label {\n",
       "  color: var(--sklearn-color-text);\n",
       "  background-color: var(--sklearn-color-unfitted-level-2);\n",
       "}\n",
       "\n",
       "/* Label box, darken color on hover, fitted */\n",
       "#sk-container-id-2 div.sk-label.fitted:hover label.sk-toggleable__label.fitted {\n",
       "  color: var(--sklearn-color-text);\n",
       "  background-color: var(--sklearn-color-fitted-level-2);\n",
       "}\n",
       "\n",
       "/* Estimator label */\n",
       "\n",
       "#sk-container-id-2 div.sk-label label {\n",
       "  font-family: monospace;\n",
       "  font-weight: bold;\n",
       "  display: inline-block;\n",
       "  line-height: 1.2em;\n",
       "}\n",
       "\n",
       "#sk-container-id-2 div.sk-label-container {\n",
       "  text-align: center;\n",
       "}\n",
       "\n",
       "/* Estimator-specific */\n",
       "#sk-container-id-2 div.sk-estimator {\n",
       "  font-family: monospace;\n",
       "  border: 1px dotted var(--sklearn-color-border-box);\n",
       "  border-radius: 0.25em;\n",
       "  box-sizing: border-box;\n",
       "  margin-bottom: 0.5em;\n",
       "  /* unfitted */\n",
       "  background-color: var(--sklearn-color-unfitted-level-0);\n",
       "}\n",
       "\n",
       "#sk-container-id-2 div.sk-estimator.fitted {\n",
       "  /* fitted */\n",
       "  background-color: var(--sklearn-color-fitted-level-0);\n",
       "}\n",
       "\n",
       "/* on hover */\n",
       "#sk-container-id-2 div.sk-estimator:hover {\n",
       "  /* unfitted */\n",
       "  background-color: var(--sklearn-color-unfitted-level-2);\n",
       "}\n",
       "\n",
       "#sk-container-id-2 div.sk-estimator.fitted:hover {\n",
       "  /* fitted */\n",
       "  background-color: var(--sklearn-color-fitted-level-2);\n",
       "}\n",
       "\n",
       "/* Specification for estimator info (e.g. \"i\" and \"?\") */\n",
       "\n",
       "/* Common style for \"i\" and \"?\" */\n",
       "\n",
       ".sk-estimator-doc-link,\n",
       "a:link.sk-estimator-doc-link,\n",
       "a:visited.sk-estimator-doc-link {\n",
       "  float: right;\n",
       "  font-size: smaller;\n",
       "  line-height: 1em;\n",
       "  font-family: monospace;\n",
       "  background-color: var(--sklearn-color-background);\n",
       "  border-radius: 1em;\n",
       "  height: 1em;\n",
       "  width: 1em;\n",
       "  text-decoration: none !important;\n",
       "  margin-left: 1ex;\n",
       "  /* unfitted */\n",
       "  border: var(--sklearn-color-unfitted-level-1) 1pt solid;\n",
       "  color: var(--sklearn-color-unfitted-level-1);\n",
       "}\n",
       "\n",
       ".sk-estimator-doc-link.fitted,\n",
       "a:link.sk-estimator-doc-link.fitted,\n",
       "a:visited.sk-estimator-doc-link.fitted {\n",
       "  /* fitted */\n",
       "  border: var(--sklearn-color-fitted-level-1) 1pt solid;\n",
       "  color: var(--sklearn-color-fitted-level-1);\n",
       "}\n",
       "\n",
       "/* On hover */\n",
       "div.sk-estimator:hover .sk-estimator-doc-link:hover,\n",
       ".sk-estimator-doc-link:hover,\n",
       "div.sk-label-container:hover .sk-estimator-doc-link:hover,\n",
       ".sk-estimator-doc-link:hover {\n",
       "  /* unfitted */\n",
       "  background-color: var(--sklearn-color-unfitted-level-3);\n",
       "  color: var(--sklearn-color-background);\n",
       "  text-decoration: none;\n",
       "}\n",
       "\n",
       "div.sk-estimator.fitted:hover .sk-estimator-doc-link.fitted:hover,\n",
       ".sk-estimator-doc-link.fitted:hover,\n",
       "div.sk-label-container:hover .sk-estimator-doc-link.fitted:hover,\n",
       ".sk-estimator-doc-link.fitted:hover {\n",
       "  /* fitted */\n",
       "  background-color: var(--sklearn-color-fitted-level-3);\n",
       "  color: var(--sklearn-color-background);\n",
       "  text-decoration: none;\n",
       "}\n",
       "\n",
       "/* Span, style for the box shown on hovering the info icon */\n",
       ".sk-estimator-doc-link span {\n",
       "  display: none;\n",
       "  z-index: 9999;\n",
       "  position: relative;\n",
       "  font-weight: normal;\n",
       "  right: .2ex;\n",
       "  padding: .5ex;\n",
       "  margin: .5ex;\n",
       "  width: min-content;\n",
       "  min-width: 20ex;\n",
       "  max-width: 50ex;\n",
       "  color: var(--sklearn-color-text);\n",
       "  box-shadow: 2pt 2pt 4pt #999;\n",
       "  /* unfitted */\n",
       "  background: var(--sklearn-color-unfitted-level-0);\n",
       "  border: .5pt solid var(--sklearn-color-unfitted-level-3);\n",
       "}\n",
       "\n",
       ".sk-estimator-doc-link.fitted span {\n",
       "  /* fitted */\n",
       "  background: var(--sklearn-color-fitted-level-0);\n",
       "  border: var(--sklearn-color-fitted-level-3);\n",
       "}\n",
       "\n",
       ".sk-estimator-doc-link:hover span {\n",
       "  display: block;\n",
       "}\n",
       "\n",
       "/* \"?\"-specific style due to the `<a>` HTML tag */\n",
       "\n",
       "#sk-container-id-2 a.estimator_doc_link {\n",
       "  float: right;\n",
       "  font-size: 1rem;\n",
       "  line-height: 1em;\n",
       "  font-family: monospace;\n",
       "  background-color: var(--sklearn-color-background);\n",
       "  border-radius: 1rem;\n",
       "  height: 1rem;\n",
       "  width: 1rem;\n",
       "  text-decoration: none;\n",
       "  /* unfitted */\n",
       "  color: var(--sklearn-color-unfitted-level-1);\n",
       "  border: var(--sklearn-color-unfitted-level-1) 1pt solid;\n",
       "}\n",
       "\n",
       "#sk-container-id-2 a.estimator_doc_link.fitted {\n",
       "  /* fitted */\n",
       "  border: var(--sklearn-color-fitted-level-1) 1pt solid;\n",
       "  color: var(--sklearn-color-fitted-level-1);\n",
       "}\n",
       "\n",
       "/* On hover */\n",
       "#sk-container-id-2 a.estimator_doc_link:hover {\n",
       "  /* unfitted */\n",
       "  background-color: var(--sklearn-color-unfitted-level-3);\n",
       "  color: var(--sklearn-color-background);\n",
       "  text-decoration: none;\n",
       "}\n",
       "\n",
       "#sk-container-id-2 a.estimator_doc_link.fitted:hover {\n",
       "  /* fitted */\n",
       "  background-color: var(--sklearn-color-fitted-level-3);\n",
       "}\n",
       "</style><div id=\"sk-container-id-2\" class=\"sk-top-container\"><div class=\"sk-text-repr-fallback\"><pre>RandomForestClassifier()</pre><b>In a Jupyter environment, please rerun this cell to show the HTML representation or trust the notebook. <br />On GitHub, the HTML representation is unable to render, please try loading this page with nbviewer.org.</b></div><div class=\"sk-container\" hidden><div class=\"sk-item\"><div class=\"sk-estimator fitted sk-toggleable\"><input class=\"sk-toggleable__control sk-hidden--visually\" id=\"sk-estimator-id-2\" type=\"checkbox\" checked><label for=\"sk-estimator-id-2\" class=\"sk-toggleable__label fitted sk-toggleable__label-arrow fitted\">&nbsp;&nbsp;RandomForestClassifier<a class=\"sk-estimator-doc-link fitted\" rel=\"noreferrer\" target=\"_blank\" href=\"https://scikit-learn.org/1.4/modules/generated/sklearn.ensemble.RandomForestClassifier.html\">?<span>Documentation for RandomForestClassifier</span></a><span class=\"sk-estimator-doc-link fitted\">i<span>Fitted</span></span></label><div class=\"sk-toggleable__content fitted\"><pre>RandomForestClassifier()</pre></div> </div></div></div></div>"
      ],
      "text/plain": [
       "RandomForestClassifier()"
      ]
     },
     "execution_count": 58,
     "metadata": {},
     "output_type": "execute_result"
    }
   ],
   "source": [
    "model.fit(X_train, y_train)"
   ]
  },
  {
   "cell_type": "code",
   "execution_count": 59,
   "id": "75fcfb49",
   "metadata": {
    "execution": {
     "iopub.execute_input": "2023-02-13T13:14:20.974268Z",
     "iopub.status.busy": "2023-02-13T13:14:20.973810Z",
     "iopub.status.idle": "2023-02-13T13:14:27.009597Z",
     "shell.execute_reply": "2023-02-13T13:14:27.008244Z"
    },
    "papermill": {
     "duration": 6.071476,
     "end_time": "2023-02-13T13:14:27.011943",
     "exception": false,
     "start_time": "2023-02-13T13:14:20.940467",
     "status": "completed"
    },
    "tags": []
   },
   "outputs": [
    {
     "data": {
      "text/plain": [
       "array([[27, 28,  4],\n",
       "       [16,  0,  4],\n",
       "       [27, 32,  4],\n",
       "       ...,\n",
       "       [ 1, 57,  4],\n",
       "       [17, 32,  4],\n",
       "       [47, 57,  4]])"
      ]
     },
     "execution_count": 59,
     "metadata": {},
     "output_type": "execute_result"
    }
   ],
   "source": [
    "# Predicting the model again in numerical terms\n",
    "\n",
    "y_pred = model.predict(X_test)\n",
    "y_pred"
   ]
  },
  {
   "cell_type": "code",
   "execution_count": 60,
   "id": "1b68a43d",
   "metadata": {
    "execution": {
     "iopub.execute_input": "2023-02-13T13:14:27.076227Z",
     "iopub.status.busy": "2023-02-13T13:14:27.075807Z",
     "iopub.status.idle": "2023-02-13T13:14:27.085878Z",
     "shell.execute_reply": "2023-02-13T13:14:27.084367Z"
    },
    "papermill": {
     "duration": 0.04493,
     "end_time": "2023-02-13T13:14:27.088505",
     "exception": false,
     "start_time": "2023-02-13T13:14:27.043575",
     "status": "completed"
    },
    "tags": []
   },
   "outputs": [
    {
     "name": "stdout",
     "output_type": "stream",
     "text": [
      "mean_absolute_error :  3.890496715927751\n"
     ]
    }
   ],
   "source": [
    "# Checking the Mean Absolute error\n",
    "\n",
    "from sklearn.metrics import mean_absolute_error\n",
    "print(\"mean_absolute_error : \", mean_absolute_error(y_pred, y_test))"
   ]
  },
  {
   "cell_type": "code",
   "execution_count": 61,
   "id": "1a95e609",
   "metadata": {
    "execution": {
     "iopub.execute_input": "2023-02-13T13:14:27.153291Z",
     "iopub.status.busy": "2023-02-13T13:14:27.152229Z",
     "iopub.status.idle": "2023-02-13T13:14:27.206951Z",
     "shell.execute_reply": "2023-02-13T13:14:27.204636Z"
    },
    "papermill": {
     "duration": 0.089816,
     "end_time": "2023-02-13T13:14:27.209440",
     "exception": false,
     "start_time": "2023-02-13T13:14:27.119624",
     "status": "completed"
    },
    "tags": []
   },
   "outputs": [
    {
     "name": "stdout",
     "output_type": "stream",
     "text": [
      "              precision    recall  f1-score   support\n",
      "\n",
      "           0       0.70      0.67      0.68       485\n",
      "           1       0.63      0.60      0.62       289\n",
      "           2       0.63      0.78      0.70        63\n",
      "           3       0.69      0.70      0.69       245\n",
      "           4       0.79      0.81      0.80       555\n",
      "           5       0.83      0.77      0.80       646\n",
      "           6       0.77      0.63      0.69        78\n",
      "           7       0.60      0.67      0.63        97\n",
      "           8       0.63      0.76      0.69        63\n",
      "           9       0.60      0.71      0.65       205\n",
      "          10       0.64      0.69      0.66       199\n",
      "          11       0.67      0.60      0.63       107\n",
      "          12       0.66      0.69      0.68        97\n",
      "          13       0.77      0.74      0.76       142\n",
      "          14       0.79      0.80      0.80       501\n",
      "          15       0.82      0.77      0.79      1203\n",
      "          16       0.75      0.76      0.76       482\n",
      "          17       0.64      0.68      0.66       107\n",
      "          18       0.52      0.68      0.59        66\n",
      "          19       0.65      0.77      0.71       121\n",
      "          20       0.79      0.79      0.79       555\n",
      "          21       0.66      0.69      0.67       124\n",
      "          22       0.66      0.71      0.69        94\n",
      "          23       0.83      0.82      0.83       325\n",
      "          24       0.74      0.77      0.76       344\n",
      "          25       0.13      0.14      0.14        14\n",
      "          26       0.77      0.82      0.80       112\n",
      "          27       0.80      0.78      0.79       376\n",
      "          28       0.78      0.80      0.79       382\n",
      "          29       0.81      0.77      0.79       102\n",
      "          30       0.79      0.79      0.79       331\n",
      "          31       0.88      0.88      0.88       161\n",
      "          32       0.79      0.74      0.77       396\n",
      "          33       0.74      0.75      0.75       294\n",
      "          34       0.74      0.76      0.75       345\n",
      "          35       0.81      0.74      0.77       285\n",
      "          36       0.77      0.80      0.78       337\n",
      "          37       0.74      0.72      0.73       251\n",
      "          38       0.79      0.87      0.83       107\n",
      "          39       0.81      0.78      0.79       112\n",
      "          40       0.81      0.87      0.84        89\n",
      "          41       0.78      0.78      0.78        91\n",
      "          42       0.00      0.00      0.00        12\n",
      "          43       0.71      0.74      0.73       233\n",
      "          44       0.78      0.82      0.80       111\n",
      "          45       0.78      0.78      0.78       389\n",
      "          46       0.79      0.78      0.78       606\n",
      "          47       0.81      0.80      0.81        87\n",
      "          48       0.77      0.80      0.78       226\n",
      "          49       0.78      0.80      0.79       181\n",
      "          50       0.00      0.00      0.00        20\n",
      "          51       0.05      0.05      0.05        63\n",
      "          52       0.04      0.04      0.04        26\n",
      "          53       0.29      0.33      0.31        60\n",
      "\n",
      "    accuracy                           0.75     12992\n",
      "   macro avg       0.67      0.68      0.67     12992\n",
      "weighted avg       0.75      0.75      0.75     12992\n",
      "\n"
     ]
    }
   ],
   "source": [
    "# Accuracy for Institute short\n",
    "\n",
    "from sklearn.metrics import classification_report \n",
    "y_pred1 = y_pred[:,0]\n",
    "y_test1 = y_test.loc[:,\"institute_short\"]\n",
    "print(classification_report(y_pred1, y_test1))"
   ]
  },
  {
   "cell_type": "code",
   "execution_count": 62,
   "id": "b0fa1a0d",
   "metadata": {
    "execution": {
     "iopub.execute_input": "2023-02-13T13:14:27.276033Z",
     "iopub.status.busy": "2023-02-13T13:14:27.275179Z",
     "iopub.status.idle": "2023-02-13T13:14:27.285752Z",
     "shell.execute_reply": "2023-02-13T13:14:27.284518Z"
    },
    "papermill": {
     "duration": 0.047093,
     "end_time": "2023-02-13T13:14:27.288074",
     "exception": false,
     "start_time": "2023-02-13T13:14:27.240981",
     "status": "completed"
    },
    "tags": []
   },
   "outputs": [
    {
     "data": {
      "text/plain": [
       "0.7515394088669951"
      ]
     },
     "execution_count": 62,
     "metadata": {},
     "output_type": "execute_result"
    }
   ],
   "source": [
    "from sklearn.metrics import accuracy_score\n",
    "Accuracy1 = accuracy_score(y_pred1, y_test1)\n",
    "Accuracy1"
   ]
  },
  {
   "cell_type": "code",
   "execution_count": 63,
   "id": "4890e820",
   "metadata": {
    "execution": {
     "iopub.execute_input": "2023-02-13T13:14:27.355536Z",
     "iopub.status.busy": "2023-02-13T13:14:27.354805Z",
     "iopub.status.idle": "2023-02-13T13:14:27.409571Z",
     "shell.execute_reply": "2023-02-13T13:14:27.408391Z"
    },
    "papermill": {
     "duration": 0.092721,
     "end_time": "2023-02-13T13:14:27.413243",
     "exception": false,
     "start_time": "2023-02-13T13:14:27.320522",
     "status": "completed"
    },
    "tags": []
   },
   "outputs": [
    {
     "name": "stdout",
     "output_type": "stream",
     "text": [
      "              precision    recall  f1-score   support\n",
      "\n",
      "           0       0.82      0.86      0.84       194\n",
      "           1       0.82      0.79      0.81        34\n",
      "           2       0.77      0.86      0.81        28\n",
      "           3       0.00      0.00      0.00         1\n",
      "           4       0.67      0.83      0.74        42\n",
      "           5       0.38      0.50      0.43        10\n",
      "           6       0.00      0.00      0.00         8\n",
      "           7       0.84      0.80      0.82       277\n",
      "           8       0.95      0.88      0.91        42\n",
      "           9       0.94      0.97      0.95        31\n",
      "          10       0.80      0.80      0.80        15\n",
      "          11       0.81      0.72      0.76        29\n",
      "          12       0.80      0.76      0.78        49\n",
      "          13       0.65      0.66      0.65       193\n",
      "          14       0.00      0.00      0.00         4\n",
      "          15       0.73      0.65      0.69        17\n",
      "          16       0.00      0.00      0.00         0\n",
      "          17       0.73      0.53      0.62        15\n",
      "          18       0.72      0.81      0.76        26\n",
      "          19       0.71      0.80      0.75        25\n",
      "          20       0.86      0.79      0.82        38\n",
      "          21       0.82      0.90      0.86        10\n",
      "          22       0.97      0.97      0.97        36\n",
      "          23       0.69      0.90      0.78        10\n",
      "          24       0.74      0.77      0.75       117\n",
      "          25       1.00      1.00      1.00         9\n",
      "          26       0.71      0.63      0.67        62\n",
      "          27       0.79      0.83      0.81        18\n",
      "          28       0.74      0.75      0.74       901\n",
      "          29       0.57      0.80      0.67        20\n",
      "          30       1.00      1.00      1.00        20\n",
      "          31       0.73      0.72      0.73       145\n",
      "          32       0.74      0.74      0.74      1229\n",
      "          33       0.82      0.74      0.78        19\n",
      "          34       0.44      0.73      0.55        11\n",
      "          35       0.71      0.67      0.69        15\n",
      "          36       0.00      0.00      0.00         0\n",
      "          37       0.70      0.95      0.81        20\n",
      "          38       1.00      0.83      0.91        12\n",
      "          39       1.00      1.00      1.00         7\n",
      "          40       1.00      1.00      1.00         9\n",
      "          41       0.77      0.86      0.81        35\n",
      "          42       0.82      0.77      0.79      1820\n",
      "          43       1.00      0.96      0.98        26\n",
      "          44       0.75      1.00      0.86         9\n",
      "          45       0.78      0.85      0.81        33\n",
      "          46       0.78      0.83      0.80       115\n",
      "          47       0.75      0.75      0.75      1204\n",
      "          48       0.81      0.83      0.82        30\n",
      "          49       0.88      0.78      0.82        18\n",
      "          50       0.00      0.00      0.00         3\n",
      "          51       0.00      0.00      0.00         4\n",
      "          52       0.00      0.00      0.00         0\n",
      "          53       0.76      0.68      0.72        19\n",
      "          54       0.76      0.79      0.77        28\n",
      "          55       0.69      0.79      0.73       238\n",
      "          56       0.50      0.62      0.56        16\n",
      "          57       0.76      0.75      0.76       982\n",
      "          58       0.74      0.81      0.78        43\n",
      "          59       0.84      0.91      0.87        34\n",
      "          60       0.00      0.00      0.00         2\n",
      "          61       0.62      0.79      0.70        19\n",
      "          62       0.69      0.79      0.73       107\n",
      "          63       1.00      1.00      1.00        20\n",
      "          64       0.79      0.79      0.79        24\n",
      "          65       0.85      0.83      0.84        42\n",
      "          66       0.74      0.79      0.76       262\n",
      "          68       0.68      0.83      0.75        18\n",
      "          69       0.91      0.85      0.88        34\n",
      "          70       0.64      0.69      0.67        13\n",
      "          71       0.75      0.75      0.75        24\n",
      "          72       0.85      0.79      0.81        28\n",
      "          73       0.68      0.73      0.70        26\n",
      "          74       0.88      0.83      0.85        35\n",
      "          75       0.79      0.73      0.76        30\n",
      "          76       0.74      0.85      0.79        27\n",
      "          77       0.78      0.67      0.72        27\n",
      "          78       0.86      0.83      0.84        29\n",
      "          79       0.75      0.68      0.71        31\n",
      "          80       0.76      0.86      0.81        22\n",
      "          82       0.69      0.71      0.70       151\n",
      "          83       0.88      0.88      0.88        32\n",
      "          84       0.71      0.62      0.67        32\n",
      "          85       0.78      0.70      0.74        20\n",
      "          86       0.69      0.96      0.80        25\n",
      "          87       0.76      0.76      0.76        17\n",
      "          88       0.00      0.00      0.00         1\n",
      "          89       0.89      0.87      0.88        45\n",
      "          90       0.72      0.68      0.70       117\n",
      "          91       0.70      0.79      0.74        42\n",
      "          92       0.62      0.76      0.68        17\n",
      "          93       0.62      0.80      0.70        20\n",
      "          94       1.00      0.98      0.99        43\n",
      "          95       0.77      0.77      0.77       244\n",
      "          96       1.00      1.00      1.00        25\n",
      "          97       0.68      0.93      0.79        30\n",
      "          98       0.75      0.73      0.74      1385\n",
      "          99       0.68      0.65      0.67        20\n",
      "         100       0.50      0.62      0.56         8\n",
      "         101       0.83      1.00      0.91        25\n",
      "         102       0.00      0.00      0.00         0\n",
      "         103       0.72      0.81      0.76        16\n",
      "         104       0.82      0.75      0.78        36\n",
      "         105       0.64      0.77      0.70        35\n",
      "         106       0.81      0.85      0.83        26\n",
      "         107       0.75      0.80      0.77        49\n",
      "         108       0.00      0.00      0.00         2\n",
      "         109       0.00      0.00      0.00         2\n",
      "         110       0.71      0.70      0.71       407\n",
      "         111       0.00      0.00      0.00         0\n",
      "         112       0.20      0.10      0.13        10\n",
      "         113       0.83      0.83      0.83        12\n",
      "         114       0.75      0.76      0.75       200\n",
      "         115       0.68      0.62      0.65        24\n",
      "         116       0.83      0.67      0.74        30\n",
      "         117       0.62      0.69      0.65        26\n",
      "         118       0.78      0.80      0.79        59\n",
      "         119       0.73      0.65      0.69        17\n",
      "         120       0.67      0.73      0.70        30\n",
      "         121       0.00      0.00      0.00         1\n",
      "         122       0.79      0.84      0.81       154\n",
      "         123       0.77      0.85      0.81        27\n",
      "         124       0.00      0.00      0.00         7\n",
      "         125       0.77      0.76      0.76        66\n",
      "         126       0.74      0.77      0.76       142\n",
      "         127       0.00      0.00      0.00         4\n",
      "         128       1.00      1.00      1.00        30\n",
      "         129       0.72      0.79      0.75        56\n",
      "\n",
      "    accuracy                           0.76     12992\n",
      "   macro avg       0.66      0.69      0.67     12992\n",
      "weighted avg       0.76      0.76      0.76     12992\n",
      "\n"
     ]
    }
   ],
   "source": [
    "# Accuracy for Program Name\n",
    "\n",
    "from sklearn.metrics import classification_report \n",
    "y_pred2 = y_pred[:,1]\n",
    "y_test2 = y_test.loc[:,\"program_name\"]\n",
    "print(classification_report(y_pred2, y_test2))"
   ]
  },
  {
   "cell_type": "code",
   "execution_count": 64,
   "id": "31d05076",
   "metadata": {
    "execution": {
     "iopub.execute_input": "2023-02-13T13:14:27.482009Z",
     "iopub.status.busy": "2023-02-13T13:14:27.481546Z",
     "iopub.status.idle": "2023-02-13T13:14:27.490810Z",
     "shell.execute_reply": "2023-02-13T13:14:27.489728Z"
    },
    "papermill": {
     "duration": 0.046789,
     "end_time": "2023-02-13T13:14:27.493001",
     "exception": false,
     "start_time": "2023-02-13T13:14:27.446212",
     "status": "completed"
    },
    "tags": []
   },
   "outputs": [
    {
     "data": {
      "text/plain": [
       "0.7587746305418719"
      ]
     },
     "execution_count": 64,
     "metadata": {},
     "output_type": "execute_result"
    }
   ],
   "source": [
    "from sklearn.metrics import accuracy_score\n",
    "Accuracy2 = accuracy_score(y_pred2, y_test2)\n",
    "Accuracy2"
   ]
  },
  {
   "cell_type": "code",
   "execution_count": 65,
   "id": "c22bebc5",
   "metadata": {
    "execution": {
     "iopub.execute_input": "2023-02-13T13:14:27.560574Z",
     "iopub.status.busy": "2023-02-13T13:14:27.560082Z",
     "iopub.status.idle": "2023-02-13T13:14:27.591570Z",
     "shell.execute_reply": "2023-02-13T13:14:27.589834Z"
    },
    "papermill": {
     "duration": 0.069185,
     "end_time": "2023-02-13T13:14:27.595116",
     "exception": false,
     "start_time": "2023-02-13T13:14:27.525931",
     "status": "completed"
    },
    "tags": []
   },
   "outputs": [
    {
     "name": "stdout",
     "output_type": "stream",
     "text": [
      "              precision    recall  f1-score   support\n",
      "\n",
      "           0       0.80      0.90      0.85       233\n",
      "           2       0.00      0.00      0.00         0\n",
      "           3       0.77      0.96      0.85        24\n",
      "           4       0.98      0.95      0.97     10705\n",
      "           5       0.78      0.86      0.82      1111\n",
      "           6       1.00      1.00      1.00       141\n",
      "           7       0.86      0.95      0.90       387\n",
      "           8       0.88      0.95      0.92        40\n",
      "           9       0.79      0.90      0.84       155\n",
      "          10       0.68      0.88      0.77        84\n",
      "          11       0.45      0.70      0.55       112\n",
      "\n",
      "    accuracy                           0.94     12992\n",
      "   macro avg       0.73      0.82      0.77     12992\n",
      "weighted avg       0.95      0.94      0.94     12992\n",
      "\n"
     ]
    }
   ],
   "source": [
    "# Accuracy for Degree \n",
    "\n",
    "from sklearn.metrics import classification_report \n",
    "y_pred3 = y_pred[:,2]\n",
    "y_test3 = y_test.loc[:,\"degree_short\"]\n",
    "print(classification_report(y_pred3, y_test3))"
   ]
  },
  {
   "cell_type": "code",
   "execution_count": 66,
   "id": "e561803a",
   "metadata": {
    "execution": {
     "iopub.execute_input": "2023-02-13T13:14:27.661375Z",
     "iopub.status.busy": "2023-02-13T13:14:27.660993Z",
     "iopub.status.idle": "2023-02-13T13:14:27.670657Z",
     "shell.execute_reply": "2023-02-13T13:14:27.669396Z"
    },
    "papermill": {
     "duration": 0.045514,
     "end_time": "2023-02-13T13:14:27.673071",
     "exception": false,
     "start_time": "2023-02-13T13:14:27.627557",
     "status": "completed"
    },
    "tags": []
   },
   "outputs": [
    {
     "data": {
      "text/plain": [
       "0.9415794334975369"
      ]
     },
     "execution_count": 66,
     "metadata": {},
     "output_type": "execute_result"
    }
   ],
   "source": [
    "from sklearn.metrics import accuracy_score\n",
    "Accuracy3 = accuracy_score(y_pred3, y_test3)\n",
    "Accuracy3"
   ]
  },
  {
   "cell_type": "code",
   "execution_count": 67,
   "id": "b480134a",
   "metadata": {
    "execution": {
     "iopub.execute_input": "2023-02-13T13:14:27.739053Z",
     "iopub.status.busy": "2023-02-13T13:14:27.738629Z",
     "iopub.status.idle": "2023-02-13T13:14:27.744897Z",
     "shell.execute_reply": "2023-02-13T13:14:27.744098Z"
    },
    "papermill": {
     "duration": 0.042158,
     "end_time": "2023-02-13T13:14:27.747164",
     "exception": false,
     "start_time": "2023-02-13T13:14:27.705006",
     "status": "completed"
    },
    "tags": []
   },
   "outputs": [
    {
     "data": {
      "text/plain": [
       "0.8172978243021346"
      ]
     },
     "execution_count": 67,
     "metadata": {},
     "output_type": "execute_result"
    }
   ],
   "source": [
    "# total accuracy of the model\n",
    "\n",
    "Mean_Accuracy = (Accuracy1 + Accuracy2 + Accuracy3) / 3\n",
    "Mean_Accuracy"
   ]
  }
 ],
 "metadata": {
  "kernelspec": {
   "display_name": "base",
   "language": "python",
   "name": "python3"
  },
  "language_info": {
   "codemirror_mode": {
    "name": "ipython",
    "version": 3
   },
   "file_extension": ".py",
   "mimetype": "text/x-python",
   "name": "python",
   "nbconvert_exporter": "python",
   "pygments_lexer": "ipython3",
   "version": "3.12.4"
  },
  "papermill": {
   "default_parameters": {},
   "duration": 102.890361,
   "end_time": "2023-02-13T13:14:30.346069",
   "environment_variables": {},
   "exception": null,
   "input_path": "__notebook__.ipynb",
   "output_path": "__notebook__.ipynb",
   "parameters": {},
   "start_time": "2023-02-13T13:12:47.455708",
   "version": "2.3.4"
  }
 },
 "nbformat": 4,
 "nbformat_minor": 5
}
